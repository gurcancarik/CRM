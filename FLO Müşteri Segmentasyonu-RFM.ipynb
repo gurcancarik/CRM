{
 "cells": [
  {
   "cell_type": "code",
   "execution_count": 1,
   "metadata": {},
   "outputs": [],
   "source": [
    "###############################################################\n",
    "# RFM ile Müşteri Segmentasyonu (Customer Segmentation with RFM)\n",
    "###############################################################"
   ]
  },
  {
   "cell_type": "code",
   "execution_count": 2,
   "metadata": {},
   "outputs": [],
   "source": [
    "###############################################################\n",
    "# İş Problemi (Business Problem)\n",
    "###############################################################\n",
    "# FLO müşterilerini segmentlere ayırıp bu segmentlere göre pazarlama stratejileri belirlemek istiyor.\n",
    "# Buna yönelik olarak müşterilerin davranışları tanımlanacak ve bu davranış öbeklenmelerine göre gruplar oluşturulacak.."
   ]
  },
  {
   "cell_type": "code",
   "execution_count": 3,
   "metadata": {},
   "outputs": [],
   "source": [
    "###############################################################\n",
    "# Veri Seti Hikayesi\n",
    "###############################################################"
   ]
  },
  {
   "cell_type": "code",
   "execution_count": 4,
   "metadata": {},
   "outputs": [],
   "source": [
    "# Veri seti son alışverişlerini 2020 - 2021 yıllarında OmniChannel(hem online hem offline alışveriş yapan) olarak yapan müşterilerin geçmiş alışveriş davranışlarından\n",
    "# elde edilen bilgilerden oluşmaktadır."
   ]
  },
  {
   "cell_type": "code",
   "execution_count": 5,
   "metadata": {},
   "outputs": [],
   "source": [
    "# master_id: Eşsiz müşteri numarası\n",
    "# order_channel : Alışveriş yapılan platforma ait hangi kanalın kullanıldığı (Android, ios, Desktop, Mobile, Offline)\n",
    "# last_order_channel : En son alışverişin yapıldığı kanal\n",
    "# first_order_date : Müşterinin yaptığı ilk alışveriş tarihi\n",
    "# last_order_date : Müşterinin yaptığı son alışveriş tarihi\n",
    "# last_order_date_online : Muşterinin online platformda yaptığı son alışveriş tarihi\n",
    "# last_order_date_offline : Muşterinin offline platformda yaptığı son alışveriş tarihi\n",
    "# order_num_total_ever_online : Müşterinin online platformda yaptığı toplam alışveriş sayısı\n",
    "# order_num_total_ever_offline : Müşterinin offline'da yaptığı toplam alışveriş sayısı\n",
    "# customer_value_total_ever_offline : Müşterinin offline alışverişlerinde ödediği toplam ücret\n",
    "# customer_value_total_ever_online : Müşterinin online alışverişlerinde ödediği toplam ücret\n",
    "# interested_in_categories_12 : Müşterinin son 12 ayda alışveriş yaptığı kategorilerin listesi"
   ]
  },
  {
   "cell_type": "code",
   "execution_count": 6,
   "metadata": {},
   "outputs": [],
   "source": [
    "###############################################################\n",
    "# GÖREVLER\n",
    "###############################################################"
   ]
  },
  {
   "cell_type": "code",
   "execution_count": 7,
   "metadata": {},
   "outputs": [],
   "source": [
    "import pandas as pd\n",
    "import numpy as np  \n",
    "import datetime as dt"
   ]
  },
  {
   "cell_type": "code",
   "execution_count": 8,
   "metadata": {},
   "outputs": [],
   "source": [
    "###############################################################\n",
    "# GÖREV 1: Veriyi Anlama (Data Understanding) ve Hazırlama\n",
    "\n",
    "           # 1. flo_data_20K.csv verisini okuyunuz.\n",
    "###############################################################           "
   ]
  },
  {
   "cell_type": "code",
   "execution_count": 9,
   "metadata": {},
   "outputs": [],
   "source": [
    "pd.set_option('display.max_columns', None)\n",
    "pd.set_option('display.max_rows', None)\n",
    "pd.set_option('display.float_format', lambda x: '%.3f' % x)\n",
    "pd.set_option('display.width', 1000)\n",
    "df_=pd.read_csv('flo_data_20k.csv')"
   ]
  },
  {
   "cell_type": "code",
   "execution_count": 10,
   "metadata": {},
   "outputs": [],
   "source": [
    "df=df_.copy()"
   ]
  },
  {
   "cell_type": "code",
   "execution_count": 11,
   "metadata": {},
   "outputs": [],
   "source": [
    "# 2. Veri setinde\n"
   ]
  },
  {
   "cell_type": "code",
   "execution_count": 12,
   "metadata": {},
   "outputs": [
    {
     "data": {
      "text/html": [
       "<div>\n",
       "<style scoped>\n",
       "    .dataframe tbody tr th:only-of-type {\n",
       "        vertical-align: middle;\n",
       "    }\n",
       "\n",
       "    .dataframe tbody tr th {\n",
       "        vertical-align: top;\n",
       "    }\n",
       "\n",
       "    .dataframe thead th {\n",
       "        text-align: right;\n",
       "    }\n",
       "</style>\n",
       "<table border=\"1\" class=\"dataframe\">\n",
       "  <thead>\n",
       "    <tr style=\"text-align: right;\">\n",
       "      <th></th>\n",
       "      <th>master_id</th>\n",
       "      <th>order_channel</th>\n",
       "      <th>last_order_channel</th>\n",
       "      <th>first_order_date</th>\n",
       "      <th>last_order_date</th>\n",
       "      <th>last_order_date_online</th>\n",
       "      <th>last_order_date_offline</th>\n",
       "      <th>order_num_total_ever_online</th>\n",
       "      <th>order_num_total_ever_offline</th>\n",
       "      <th>customer_value_total_ever_offline</th>\n",
       "      <th>customer_value_total_ever_online</th>\n",
       "      <th>interested_in_categories_12</th>\n",
       "    </tr>\n",
       "  </thead>\n",
       "  <tbody>\n",
       "    <tr>\n",
       "      <th>0</th>\n",
       "      <td>cc294636-19f0-11eb-8d74-000d3a38a36f</td>\n",
       "      <td>Android App</td>\n",
       "      <td>Offline</td>\n",
       "      <td>2020-10-30</td>\n",
       "      <td>2021-02-26</td>\n",
       "      <td>2021-02-21</td>\n",
       "      <td>2021-02-26</td>\n",
       "      <td>4.000</td>\n",
       "      <td>1.000</td>\n",
       "      <td>139.990</td>\n",
       "      <td>799.380</td>\n",
       "      <td>[KADIN]</td>\n",
       "    </tr>\n",
       "    <tr>\n",
       "      <th>1</th>\n",
       "      <td>f431bd5a-ab7b-11e9-a2fc-000d3a38a36f</td>\n",
       "      <td>Android App</td>\n",
       "      <td>Mobile</td>\n",
       "      <td>2017-02-08</td>\n",
       "      <td>2021-02-16</td>\n",
       "      <td>2021-02-16</td>\n",
       "      <td>2020-01-10</td>\n",
       "      <td>19.000</td>\n",
       "      <td>2.000</td>\n",
       "      <td>159.970</td>\n",
       "      <td>1853.580</td>\n",
       "      <td>[ERKEK, COCUK, KADIN, AKTIFSPOR]</td>\n",
       "    </tr>\n",
       "    <tr>\n",
       "      <th>2</th>\n",
       "      <td>69b69676-1a40-11ea-941b-000d3a38a36f</td>\n",
       "      <td>Android App</td>\n",
       "      <td>Android App</td>\n",
       "      <td>2019-11-27</td>\n",
       "      <td>2020-11-27</td>\n",
       "      <td>2020-11-27</td>\n",
       "      <td>2019-12-01</td>\n",
       "      <td>3.000</td>\n",
       "      <td>2.000</td>\n",
       "      <td>189.970</td>\n",
       "      <td>395.350</td>\n",
       "      <td>[ERKEK, KADIN]</td>\n",
       "    </tr>\n",
       "    <tr>\n",
       "      <th>3</th>\n",
       "      <td>1854e56c-491f-11eb-806e-000d3a38a36f</td>\n",
       "      <td>Android App</td>\n",
       "      <td>Android App</td>\n",
       "      <td>2021-01-06</td>\n",
       "      <td>2021-01-17</td>\n",
       "      <td>2021-01-17</td>\n",
       "      <td>2021-01-06</td>\n",
       "      <td>1.000</td>\n",
       "      <td>1.000</td>\n",
       "      <td>39.990</td>\n",
       "      <td>81.980</td>\n",
       "      <td>[AKTIFCOCUK, COCUK]</td>\n",
       "    </tr>\n",
       "    <tr>\n",
       "      <th>4</th>\n",
       "      <td>d6ea1074-f1f5-11e9-9346-000d3a38a36f</td>\n",
       "      <td>Desktop</td>\n",
       "      <td>Desktop</td>\n",
       "      <td>2019-08-03</td>\n",
       "      <td>2021-03-07</td>\n",
       "      <td>2021-03-07</td>\n",
       "      <td>2019-08-03</td>\n",
       "      <td>1.000</td>\n",
       "      <td>1.000</td>\n",
       "      <td>49.990</td>\n",
       "      <td>159.990</td>\n",
       "      <td>[AKTIFSPOR]</td>\n",
       "    </tr>\n",
       "  </tbody>\n",
       "</table>\n",
       "</div>"
      ],
      "text/plain": [
       "                              master_id order_channel last_order_channel first_order_date last_order_date last_order_date_online last_order_date_offline  order_num_total_ever_online  order_num_total_ever_offline  customer_value_total_ever_offline  customer_value_total_ever_online       interested_in_categories_12\n",
       "0  cc294636-19f0-11eb-8d74-000d3a38a36f   Android App            Offline       2020-10-30      2021-02-26             2021-02-21              2021-02-26                        4.000                         1.000                            139.990                           799.380                           [KADIN]\n",
       "1  f431bd5a-ab7b-11e9-a2fc-000d3a38a36f   Android App             Mobile       2017-02-08      2021-02-16             2021-02-16              2020-01-10                       19.000                         2.000                            159.970                          1853.580  [ERKEK, COCUK, KADIN, AKTIFSPOR]\n",
       "2  69b69676-1a40-11ea-941b-000d3a38a36f   Android App        Android App       2019-11-27      2020-11-27             2020-11-27              2019-12-01                        3.000                         2.000                            189.970                           395.350                    [ERKEK, KADIN]\n",
       "3  1854e56c-491f-11eb-806e-000d3a38a36f   Android App        Android App       2021-01-06      2021-01-17             2021-01-17              2021-01-06                        1.000                         1.000                             39.990                            81.980               [AKTIFCOCUK, COCUK]\n",
       "4  d6ea1074-f1f5-11e9-9346-000d3a38a36f       Desktop            Desktop       2019-08-03      2021-03-07             2021-03-07              2019-08-03                        1.000                         1.000                             49.990                           159.990                       [AKTIFSPOR]"
      ]
     },
     "execution_count": 12,
     "metadata": {},
     "output_type": "execute_result"
    }
   ],
   "source": [
    "# a. İlk 10 gözlem,\n",
    "df.head()\n"
   ]
  },
  {
   "cell_type": "code",
   "execution_count": 13,
   "metadata": {},
   "outputs": [],
   "source": [
    "# b. Değişken isimleri,"
   ]
  },
  {
   "cell_type": "code",
   "execution_count": 14,
   "metadata": {},
   "outputs": [
    {
     "data": {
      "text/plain": [
       "Index(['master_id', 'order_channel', 'last_order_channel', 'first_order_date', 'last_order_date', 'last_order_date_online', 'last_order_date_offline', 'order_num_total_ever_online', 'order_num_total_ever_offline', 'customer_value_total_ever_offline', 'customer_value_total_ever_online', 'interested_in_categories_12'], dtype='object')"
      ]
     },
     "execution_count": 14,
     "metadata": {},
     "output_type": "execute_result"
    }
   ],
   "source": [
    "df.columns"
   ]
  },
  {
   "cell_type": "code",
   "execution_count": 15,
   "metadata": {},
   "outputs": [
    {
     "data": {
      "text/html": [
       "<div>\n",
       "<style scoped>\n",
       "    .dataframe tbody tr th:only-of-type {\n",
       "        vertical-align: middle;\n",
       "    }\n",
       "\n",
       "    .dataframe tbody tr th {\n",
       "        vertical-align: top;\n",
       "    }\n",
       "\n",
       "    .dataframe thead th {\n",
       "        text-align: right;\n",
       "    }\n",
       "</style>\n",
       "<table border=\"1\" class=\"dataframe\">\n",
       "  <thead>\n",
       "    <tr style=\"text-align: right;\">\n",
       "      <th></th>\n",
       "      <th>count</th>\n",
       "      <th>mean</th>\n",
       "      <th>std</th>\n",
       "      <th>min</th>\n",
       "      <th>25%</th>\n",
       "      <th>50%</th>\n",
       "      <th>75%</th>\n",
       "      <th>max</th>\n",
       "    </tr>\n",
       "  </thead>\n",
       "  <tbody>\n",
       "    <tr>\n",
       "      <th>order_num_total_ever_online</th>\n",
       "      <td>19945.000</td>\n",
       "      <td>3.111</td>\n",
       "      <td>4.226</td>\n",
       "      <td>1.000</td>\n",
       "      <td>1.000</td>\n",
       "      <td>2.000</td>\n",
       "      <td>4.000</td>\n",
       "      <td>200.000</td>\n",
       "    </tr>\n",
       "    <tr>\n",
       "      <th>order_num_total_ever_offline</th>\n",
       "      <td>19945.000</td>\n",
       "      <td>1.914</td>\n",
       "      <td>2.063</td>\n",
       "      <td>1.000</td>\n",
       "      <td>1.000</td>\n",
       "      <td>1.000</td>\n",
       "      <td>2.000</td>\n",
       "      <td>109.000</td>\n",
       "    </tr>\n",
       "    <tr>\n",
       "      <th>customer_value_total_ever_offline</th>\n",
       "      <td>19945.000</td>\n",
       "      <td>253.923</td>\n",
       "      <td>301.533</td>\n",
       "      <td>10.000</td>\n",
       "      <td>99.990</td>\n",
       "      <td>179.980</td>\n",
       "      <td>319.970</td>\n",
       "      <td>18119.140</td>\n",
       "    </tr>\n",
       "    <tr>\n",
       "      <th>customer_value_total_ever_online</th>\n",
       "      <td>19945.000</td>\n",
       "      <td>497.322</td>\n",
       "      <td>832.602</td>\n",
       "      <td>12.990</td>\n",
       "      <td>149.980</td>\n",
       "      <td>286.460</td>\n",
       "      <td>578.440</td>\n",
       "      <td>45220.130</td>\n",
       "    </tr>\n",
       "  </tbody>\n",
       "</table>\n",
       "</div>"
      ],
      "text/plain": [
       "                                      count    mean     std    min     25%     50%     75%       max\n",
       "order_num_total_ever_online       19945.000   3.111   4.226  1.000   1.000   2.000   4.000   200.000\n",
       "order_num_total_ever_offline      19945.000   1.914   2.063  1.000   1.000   1.000   2.000   109.000\n",
       "customer_value_total_ever_offline 19945.000 253.923 301.533 10.000  99.990 179.980 319.970 18119.140\n",
       "customer_value_total_ever_online  19945.000 497.322 832.602 12.990 149.980 286.460 578.440 45220.130"
      ]
     },
     "execution_count": 15,
     "metadata": {},
     "output_type": "execute_result"
    }
   ],
   "source": [
    "# c. Betimsel istatistik,\n",
    "df.describe().T\n"
   ]
  },
  {
   "cell_type": "code",
   "execution_count": 16,
   "metadata": {},
   "outputs": [
    {
     "data": {
      "text/plain": [
       "master_id                            0\n",
       "order_channel                        0\n",
       "last_order_channel                   0\n",
       "first_order_date                     0\n",
       "last_order_date                      0\n",
       "last_order_date_online               0\n",
       "last_order_date_offline              0\n",
       "order_num_total_ever_online          0\n",
       "order_num_total_ever_offline         0\n",
       "customer_value_total_ever_offline    0\n",
       "customer_value_total_ever_online     0\n",
       "interested_in_categories_12          0\n",
       "dtype: int64"
      ]
     },
     "execution_count": 16,
     "metadata": {},
     "output_type": "execute_result"
    }
   ],
   "source": [
    "# d. Boş değer,\n",
    "df.isnull().sum()\n"
   ]
  },
  {
   "cell_type": "code",
   "execution_count": 17,
   "metadata": {},
   "outputs": [
    {
     "data": {
      "text/plain": [
       "master_id                            0\n",
       "order_channel                        0\n",
       "last_order_channel                   0\n",
       "first_order_date                     0\n",
       "last_order_date                      0\n",
       "last_order_date_online               0\n",
       "last_order_date_offline              0\n",
       "order_num_total_ever_online          0\n",
       "order_num_total_ever_offline         0\n",
       "customer_value_total_ever_offline    0\n",
       "customer_value_total_ever_online     0\n",
       "interested_in_categories_12          0\n",
       "dtype: int64"
      ]
     },
     "execution_count": 17,
     "metadata": {},
     "output_type": "execute_result"
    }
   ],
   "source": [
    "# d. Boş değer,\n",
    "df.isna().sum()"
   ]
  },
  {
   "cell_type": "code",
   "execution_count": 18,
   "metadata": {},
   "outputs": [],
   "source": [
    "# e. Değişken tipleri, incelemesi yapınız."
   ]
  },
  {
   "cell_type": "code",
   "execution_count": 19,
   "metadata": {},
   "outputs": [
    {
     "data": {
      "text/plain": [
       "master_id                             object\n",
       "order_channel                         object\n",
       "last_order_channel                    object\n",
       "first_order_date                      object\n",
       "last_order_date                       object\n",
       "last_order_date_online                object\n",
       "last_order_date_offline               object\n",
       "order_num_total_ever_online          float64\n",
       "order_num_total_ever_offline         float64\n",
       "customer_value_total_ever_offline    float64\n",
       "customer_value_total_ever_online     float64\n",
       "interested_in_categories_12           object\n",
       "dtype: object"
      ]
     },
     "execution_count": 19,
     "metadata": {},
     "output_type": "execute_result"
    }
   ],
   "source": [
    "df.dtypes"
   ]
  },
  {
   "cell_type": "code",
   "execution_count": 20,
   "metadata": {},
   "outputs": [
    {
     "name": "stdout",
     "output_type": "stream",
     "text": [
      "<class 'pandas.core.frame.DataFrame'>\n",
      "RangeIndex: 19945 entries, 0 to 19944\n",
      "Data columns (total 12 columns):\n",
      " #   Column                             Non-Null Count  Dtype  \n",
      "---  ------                             --------------  -----  \n",
      " 0   master_id                          19945 non-null  object \n",
      " 1   order_channel                      19945 non-null  object \n",
      " 2   last_order_channel                 19945 non-null  object \n",
      " 3   first_order_date                   19945 non-null  object \n",
      " 4   last_order_date                    19945 non-null  object \n",
      " 5   last_order_date_online             19945 non-null  object \n",
      " 6   last_order_date_offline            19945 non-null  object \n",
      " 7   order_num_total_ever_online        19945 non-null  float64\n",
      " 8   order_num_total_ever_offline       19945 non-null  float64\n",
      " 9   customer_value_total_ever_offline  19945 non-null  float64\n",
      " 10  customer_value_total_ever_online   19945 non-null  float64\n",
      " 11  interested_in_categories_12        19945 non-null  object \n",
      "dtypes: float64(4), object(8)\n",
      "memory usage: 1.8+ MB\n"
     ]
    }
   ],
   "source": [
    "df.info()"
   ]
  },
  {
   "cell_type": "code",
   "execution_count": 21,
   "metadata": {},
   "outputs": [
    {
     "data": {
      "text/plain": [
       "(19945, 12)"
      ]
     },
     "execution_count": 21,
     "metadata": {},
     "output_type": "execute_result"
    }
   ],
   "source": [
    "df.shape"
   ]
  },
  {
   "cell_type": "code",
   "execution_count": 22,
   "metadata": {},
   "outputs": [
    {
     "data": {
      "text/plain": [
       "19945"
      ]
     },
     "execution_count": 22,
     "metadata": {},
     "output_type": "execute_result"
    }
   ],
   "source": [
    "df['master_id'].nunique()"
   ]
  },
  {
   "cell_type": "code",
   "execution_count": 23,
   "metadata": {},
   "outputs": [],
   "source": [
    "# 3. Omnichannel müşterilerin hem online'dan hemde offline platformlardan alışveriş yaptığını ifade etmektedir. Herbir müşterinin toplam\n",
    "# alışveriş sayısı ve harcaması için yeni değişkenler oluşturun.\n"
   ]
  },
  {
   "cell_type": "code",
   "execution_count": 24,
   "metadata": {},
   "outputs": [
    {
     "data": {
      "text/plain": [
       "0    5.000\n",
       "1   21.000\n",
       "2    5.000\n",
       "3    2.000\n",
       "4    2.000\n",
       "Name: order_total, dtype: float64"
      ]
     },
     "execution_count": 24,
     "metadata": {},
     "output_type": "execute_result"
    }
   ],
   "source": [
    "df['order_total']=df[\"order_num_total_ever_online\"] + df[\"order_num_total_ever_offline\"]\n",
    "df['order_total'].head()"
   ]
  },
  {
   "cell_type": "code",
   "execution_count": 25,
   "metadata": {},
   "outputs": [
    {
     "data": {
      "text/plain": [
       "0    939.370\n",
       "1   2013.550\n",
       "2    585.320\n",
       "3    121.970\n",
       "4    209.980\n",
       "Name: price_total, dtype: float64"
      ]
     },
     "execution_count": 25,
     "metadata": {},
     "output_type": "execute_result"
    }
   ],
   "source": [
    "df['price_total']=df[\"customer_value_total_ever_offline\"] + df[\"customer_value_total_ever_online\"]\n",
    "df['price_total'].head()\n"
   ]
  },
  {
   "cell_type": "code",
   "execution_count": 26,
   "metadata": {},
   "outputs": [],
   "source": [
    " # 4. Değişken tiplerini inceleyiniz. Tarih ifade eden değişkenlerin tipini date'e "
   ]
  },
  {
   "cell_type": "code",
   "execution_count": 27,
   "metadata": {},
   "outputs": [
    {
     "data": {
      "text/plain": [
       "master_id                             object\n",
       "order_channel                         object\n",
       "last_order_channel                    object\n",
       "first_order_date                      object\n",
       "last_order_date                       object\n",
       "last_order_date_online                object\n",
       "last_order_date_offline               object\n",
       "order_num_total_ever_online          float64\n",
       "order_num_total_ever_offline         float64\n",
       "customer_value_total_ever_offline    float64\n",
       "customer_value_total_ever_online     float64\n",
       "interested_in_categories_12           object\n",
       "order_total                          float64\n",
       "price_total                          float64\n",
       "dtype: object"
      ]
     },
     "execution_count": 27,
     "metadata": {},
     "output_type": "execute_result"
    }
   ],
   "source": [
    "df.dtypes"
   ]
  },
  {
   "cell_type": "code",
   "execution_count": 28,
   "metadata": {},
   "outputs": [
    {
     "data": {
      "text/plain": [
       "Index(['first_order_date', 'last_order_date', 'last_order_date_online', 'last_order_date_offline'], dtype='object')"
      ]
     },
     "execution_count": 28,
     "metadata": {},
     "output_type": "execute_result"
    }
   ],
   "source": [
    "#1.yol:\n",
    "date_columns=df.columns[df.columns.str.contains('date')]\n",
    "date_columns"
   ]
  },
  {
   "cell_type": "code",
   "execution_count": 29,
   "metadata": {},
   "outputs": [
    {
     "data": {
      "text/plain": [
       "Index(['first_order_date', 'last_order_date', 'last_order_date_online', 'last_order_date_offline'], dtype='object')"
      ]
     },
     "execution_count": 29,
     "metadata": {},
     "output_type": "execute_result"
    }
   ],
   "source": [
    "df[date_columns] = df[date_columns].apply(pd.to_datetime)\n",
    "date_columns "
   ]
  },
  {
   "cell_type": "code",
   "execution_count": 30,
   "metadata": {},
   "outputs": [
    {
     "name": "stdout",
     "output_type": "stream",
     "text": [
      "<class 'pandas.core.frame.DataFrame'>\n",
      "RangeIndex: 19945 entries, 0 to 19944\n",
      "Data columns (total 14 columns):\n",
      " #   Column                             Non-Null Count  Dtype         \n",
      "---  ------                             --------------  -----         \n",
      " 0   master_id                          19945 non-null  object        \n",
      " 1   order_channel                      19945 non-null  object        \n",
      " 2   last_order_channel                 19945 non-null  object        \n",
      " 3   first_order_date                   19945 non-null  datetime64[ns]\n",
      " 4   last_order_date                    19945 non-null  datetime64[ns]\n",
      " 5   last_order_date_online             19945 non-null  datetime64[ns]\n",
      " 6   last_order_date_offline            19945 non-null  datetime64[ns]\n",
      " 7   order_num_total_ever_online        19945 non-null  float64       \n",
      " 8   order_num_total_ever_offline       19945 non-null  float64       \n",
      " 9   customer_value_total_ever_offline  19945 non-null  float64       \n",
      " 10  customer_value_total_ever_online   19945 non-null  float64       \n",
      " 11  interested_in_categories_12        19945 non-null  object        \n",
      " 12  order_total                        19945 non-null  float64       \n",
      " 13  price_total                        19945 non-null  float64       \n",
      "dtypes: datetime64[ns](4), float64(6), object(4)\n",
      "memory usage: 2.1+ MB\n"
     ]
    }
   ],
   "source": [
    "df.info()"
   ]
  },
  {
   "cell_type": "code",
   "execution_count": 31,
   "metadata": {},
   "outputs": [],
   "source": [
    "#2.yol:\n",
    "date_columns_2 = [ col for col in df.columns if 'date' in col]"
   ]
  },
  {
   "cell_type": "code",
   "execution_count": 32,
   "metadata": {},
   "outputs": [],
   "source": [
    "#3.yol:(?)\n",
    "# df[df.loc[:, df.columns.str.contains(\"date\")]]"
   ]
  },
  {
   "cell_type": "code",
   "execution_count": 33,
   "metadata": {},
   "outputs": [
    {
     "data": {
      "text/plain": [
       "array(['Android App', 'Desktop', 'Mobile', 'Ios App'], dtype=object)"
      ]
     },
     "execution_count": 33,
     "metadata": {},
     "output_type": "execute_result"
    }
   ],
   "source": [
    "df[\"order_channel\"].unique()"
   ]
  },
  {
   "cell_type": "code",
   "execution_count": 34,
   "metadata": {},
   "outputs": [
    {
     "data": {
      "text/html": [
       "<div>\n",
       "<style scoped>\n",
       "    .dataframe tbody tr th:only-of-type {\n",
       "        vertical-align: middle;\n",
       "    }\n",
       "\n",
       "    .dataframe tbody tr th {\n",
       "        vertical-align: top;\n",
       "    }\n",
       "\n",
       "    .dataframe thead th {\n",
       "        text-align: right;\n",
       "    }\n",
       "</style>\n",
       "<table border=\"1\" class=\"dataframe\">\n",
       "  <thead>\n",
       "    <tr style=\"text-align: right;\">\n",
       "      <th></th>\n",
       "      <th>master_id</th>\n",
       "      <th>order_total</th>\n",
       "      <th>price_total</th>\n",
       "    </tr>\n",
       "    <tr>\n",
       "      <th>order_channel</th>\n",
       "      <th></th>\n",
       "      <th></th>\n",
       "      <th></th>\n",
       "    </tr>\n",
       "  </thead>\n",
       "  <tbody>\n",
       "    <tr>\n",
       "      <th>Android App</th>\n",
       "      <td>9495</td>\n",
       "      <td>5.505</td>\n",
       "      <td>823.493</td>\n",
       "    </tr>\n",
       "    <tr>\n",
       "      <th>Desktop</th>\n",
       "      <td>2735</td>\n",
       "      <td>3.993</td>\n",
       "      <td>588.783</td>\n",
       "    </tr>\n",
       "    <tr>\n",
       "      <th>Ios App</th>\n",
       "      <td>2833</td>\n",
       "      <td>5.419</td>\n",
       "      <td>891.634</td>\n",
       "    </tr>\n",
       "    <tr>\n",
       "      <th>Mobile</th>\n",
       "      <td>4882</td>\n",
       "      <td>4.441</td>\n",
       "      <td>620.275</td>\n",
       "    </tr>\n",
       "  </tbody>\n",
       "</table>\n",
       "</div>"
      ],
      "text/plain": [
       "               master_id  order_total  price_total\n",
       "order_channel                                     \n",
       "Android App         9495        5.505      823.493\n",
       "Desktop             2735        3.993      588.783\n",
       "Ios App             2833        5.419      891.634\n",
       "Mobile              4882        4.441      620.275"
      ]
     },
     "execution_count": 34,
     "metadata": {},
     "output_type": "execute_result"
    }
   ],
   "source": [
    "# 5. Alışveriş kanallarındaki müşteri sayısının, ortalama alınan ürün sayısının ve ortalama harcamaların dağılımına bakınız.\n",
    "df.groupby('order_channel').agg({'master_id':'count',\n",
    "                                 'order_total':'mean',\n",
    "                                 'price_total':'mean'})"
   ]
  },
  {
   "cell_type": "code",
   "execution_count": 35,
   "metadata": {},
   "outputs": [],
   "source": [
    "# 6. En fazla kazancı getiren ilk 10 müşteriyi sıralayınız."
   ]
  },
  {
   "cell_type": "code",
   "execution_count": 36,
   "metadata": {},
   "outputs": [
    {
     "data": {
      "text/html": [
       "<div>\n",
       "<style scoped>\n",
       "    .dataframe tbody tr th:only-of-type {\n",
       "        vertical-align: middle;\n",
       "    }\n",
       "\n",
       "    .dataframe tbody tr th {\n",
       "        vertical-align: top;\n",
       "    }\n",
       "\n",
       "    .dataframe thead th {\n",
       "        text-align: right;\n",
       "    }\n",
       "</style>\n",
       "<table border=\"1\" class=\"dataframe\">\n",
       "  <thead>\n",
       "    <tr style=\"text-align: right;\">\n",
       "      <th></th>\n",
       "      <th>master_id</th>\n",
       "      <th>price_total</th>\n",
       "    </tr>\n",
       "  </thead>\n",
       "  <tbody>\n",
       "    <tr>\n",
       "      <th>11150</th>\n",
       "      <td>5d1c466a-9cfd-11e9-9897-000d3a38a36f</td>\n",
       "      <td>45905.100</td>\n",
       "    </tr>\n",
       "    <tr>\n",
       "      <th>4315</th>\n",
       "      <td>d5ef8058-a5c6-11e9-a2fc-000d3a38a36f</td>\n",
       "      <td>36818.290</td>\n",
       "    </tr>\n",
       "    <tr>\n",
       "      <th>7613</th>\n",
       "      <td>73fd19aa-9e37-11e9-9897-000d3a38a36f</td>\n",
       "      <td>33918.100</td>\n",
       "    </tr>\n",
       "    <tr>\n",
       "      <th>13880</th>\n",
       "      <td>7137a5c0-7aad-11ea-8f20-000d3a38a36f</td>\n",
       "      <td>31227.410</td>\n",
       "    </tr>\n",
       "    <tr>\n",
       "      <th>9055</th>\n",
       "      <td>47a642fe-975b-11eb-8c2a-000d3a38a36f</td>\n",
       "      <td>20706.340</td>\n",
       "    </tr>\n",
       "    <tr>\n",
       "      <th>7330</th>\n",
       "      <td>a4d534a2-5b1b-11eb-8dbd-000d3a38a36f</td>\n",
       "      <td>18443.570</td>\n",
       "    </tr>\n",
       "    <tr>\n",
       "      <th>8068</th>\n",
       "      <td>d696c654-2633-11ea-8e1c-000d3a38a36f</td>\n",
       "      <td>16918.570</td>\n",
       "    </tr>\n",
       "    <tr>\n",
       "      <th>163</th>\n",
       "      <td>fef57ffa-aae6-11e9-a2fc-000d3a38a36f</td>\n",
       "      <td>12726.100</td>\n",
       "    </tr>\n",
       "    <tr>\n",
       "      <th>7223</th>\n",
       "      <td>cba59206-9dd1-11e9-9897-000d3a38a36f</td>\n",
       "      <td>12282.240</td>\n",
       "    </tr>\n",
       "    <tr>\n",
       "      <th>18767</th>\n",
       "      <td>fc0ce7a4-9d87-11e9-9897-000d3a38a36f</td>\n",
       "      <td>12103.150</td>\n",
       "    </tr>\n",
       "  </tbody>\n",
       "</table>\n",
       "</div>"
      ],
      "text/plain": [
       "                                  master_id  price_total\n",
       "11150  5d1c466a-9cfd-11e9-9897-000d3a38a36f    45905.100\n",
       "4315   d5ef8058-a5c6-11e9-a2fc-000d3a38a36f    36818.290\n",
       "7613   73fd19aa-9e37-11e9-9897-000d3a38a36f    33918.100\n",
       "13880  7137a5c0-7aad-11ea-8f20-000d3a38a36f    31227.410\n",
       "9055   47a642fe-975b-11eb-8c2a-000d3a38a36f    20706.340\n",
       "7330   a4d534a2-5b1b-11eb-8dbd-000d3a38a36f    18443.570\n",
       "8068   d696c654-2633-11ea-8e1c-000d3a38a36f    16918.570\n",
       "163    fef57ffa-aae6-11e9-a2fc-000d3a38a36f    12726.100\n",
       "7223   cba59206-9dd1-11e9-9897-000d3a38a36f    12282.240\n",
       "18767  fc0ce7a4-9d87-11e9-9897-000d3a38a36f    12103.150"
      ]
     },
     "execution_count": 36,
     "metadata": {},
     "output_type": "execute_result"
    }
   ],
   "source": [
    "df.loc[:,['master_id','price_total']].sort_values(by='price_total',ascending=False).head(10)"
   ]
  },
  {
   "cell_type": "code",
   "execution_count": 37,
   "metadata": {},
   "outputs": [
    {
     "data": {
      "text/html": [
       "<div>\n",
       "<style scoped>\n",
       "    .dataframe tbody tr th:only-of-type {\n",
       "        vertical-align: middle;\n",
       "    }\n",
       "\n",
       "    .dataframe tbody tr th {\n",
       "        vertical-align: top;\n",
       "    }\n",
       "\n",
       "    .dataframe thead th {\n",
       "        text-align: right;\n",
       "    }\n",
       "</style>\n",
       "<table border=\"1\" class=\"dataframe\">\n",
       "  <thead>\n",
       "    <tr style=\"text-align: right;\">\n",
       "      <th></th>\n",
       "      <th>master_id</th>\n",
       "      <th>order_channel</th>\n",
       "      <th>last_order_channel</th>\n",
       "      <th>first_order_date</th>\n",
       "      <th>last_order_date</th>\n",
       "      <th>last_order_date_online</th>\n",
       "      <th>last_order_date_offline</th>\n",
       "      <th>order_num_total_ever_online</th>\n",
       "      <th>order_num_total_ever_offline</th>\n",
       "      <th>customer_value_total_ever_offline</th>\n",
       "      <th>customer_value_total_ever_online</th>\n",
       "      <th>interested_in_categories_12</th>\n",
       "      <th>order_total</th>\n",
       "      <th>price_total</th>\n",
       "    </tr>\n",
       "  </thead>\n",
       "  <tbody>\n",
       "    <tr>\n",
       "      <th>11150</th>\n",
       "      <td>5d1c466a-9cfd-11e9-9897-000d3a38a36f</td>\n",
       "      <td>Android App</td>\n",
       "      <td>Desktop</td>\n",
       "      <td>2013-10-11</td>\n",
       "      <td>2021-04-30</td>\n",
       "      <td>2021-04-30</td>\n",
       "      <td>2020-12-24</td>\n",
       "      <td>200.000</td>\n",
       "      <td>2.000</td>\n",
       "      <td>684.970</td>\n",
       "      <td>45220.130</td>\n",
       "      <td>[AKTIFCOCUK, ERKEK, COCUK, KADIN, AKTIFSPOR]</td>\n",
       "      <td>202.000</td>\n",
       "      <td>45905.100</td>\n",
       "    </tr>\n",
       "    <tr>\n",
       "      <th>7223</th>\n",
       "      <td>cba59206-9dd1-11e9-9897-000d3a38a36f</td>\n",
       "      <td>Android App</td>\n",
       "      <td>Android App</td>\n",
       "      <td>2013-02-21</td>\n",
       "      <td>2021-05-09</td>\n",
       "      <td>2021-05-09</td>\n",
       "      <td>2020-01-25</td>\n",
       "      <td>130.000</td>\n",
       "      <td>1.000</td>\n",
       "      <td>49.990</td>\n",
       "      <td>12232.250</td>\n",
       "      <td>[AKTIFCOCUK, ERKEK, KADIN, AKTIFSPOR]</td>\n",
       "      <td>131.000</td>\n",
       "      <td>12282.240</td>\n",
       "    </tr>\n",
       "    <tr>\n",
       "      <th>8783</th>\n",
       "      <td>a57f4302-b1a8-11e9-89fa-000d3a38a36f</td>\n",
       "      <td>Android App</td>\n",
       "      <td>Offline</td>\n",
       "      <td>2019-08-07</td>\n",
       "      <td>2020-11-04</td>\n",
       "      <td>2020-09-07</td>\n",
       "      <td>2020-11-04</td>\n",
       "      <td>2.000</td>\n",
       "      <td>109.000</td>\n",
       "      <td>10239.460</td>\n",
       "      <td>143.980</td>\n",
       "      <td>[AKTIFCOCUK, ERKEK, COCUK, KADIN, AKTIFSPOR]</td>\n",
       "      <td>111.000</td>\n",
       "      <td>10383.440</td>\n",
       "    </tr>\n",
       "    <tr>\n",
       "      <th>2619</th>\n",
       "      <td>fdbe8304-a7ab-11e9-a2fc-000d3a38a36f</td>\n",
       "      <td>Android App</td>\n",
       "      <td>Offline</td>\n",
       "      <td>2018-10-18</td>\n",
       "      <td>2020-06-30</td>\n",
       "      <td>2018-10-18</td>\n",
       "      <td>2020-06-30</td>\n",
       "      <td>1.000</td>\n",
       "      <td>87.000</td>\n",
       "      <td>8432.250</td>\n",
       "      <td>139.980</td>\n",
       "      <td>[ERKEK]</td>\n",
       "      <td>88.000</td>\n",
       "      <td>8572.230</td>\n",
       "    </tr>\n",
       "    <tr>\n",
       "      <th>6322</th>\n",
       "      <td>329968c6-a0e2-11e9-a2fc-000d3a38a36f</td>\n",
       "      <td>Ios App</td>\n",
       "      <td>Ios App</td>\n",
       "      <td>2019-02-14</td>\n",
       "      <td>2021-04-05</td>\n",
       "      <td>2021-04-05</td>\n",
       "      <td>2020-02-17</td>\n",
       "      <td>2.000</td>\n",
       "      <td>81.000</td>\n",
       "      <td>3997.550</td>\n",
       "      <td>242.810</td>\n",
       "      <td>[ERKEK]</td>\n",
       "      <td>83.000</td>\n",
       "      <td>4240.360</td>\n",
       "    </tr>\n",
       "    <tr>\n",
       "      <th>7613</th>\n",
       "      <td>73fd19aa-9e37-11e9-9897-000d3a38a36f</td>\n",
       "      <td>Ios App</td>\n",
       "      <td>Offline</td>\n",
       "      <td>2014-01-14</td>\n",
       "      <td>2021-05-18</td>\n",
       "      <td>2021-01-30</td>\n",
       "      <td>2021-05-18</td>\n",
       "      <td>81.000</td>\n",
       "      <td>1.000</td>\n",
       "      <td>1263.760</td>\n",
       "      <td>32654.340</td>\n",
       "      <td>[ERKEK, COCUK, KADIN, AKTIFSPOR]</td>\n",
       "      <td>82.000</td>\n",
       "      <td>33918.100</td>\n",
       "    </tr>\n",
       "    <tr>\n",
       "      <th>9347</th>\n",
       "      <td>44d032ee-a0d4-11e9-a2fc-000d3a38a36f</td>\n",
       "      <td>Mobile</td>\n",
       "      <td>Mobile</td>\n",
       "      <td>2019-02-11</td>\n",
       "      <td>2021-02-11</td>\n",
       "      <td>2021-02-11</td>\n",
       "      <td>2020-12-24</td>\n",
       "      <td>3.000</td>\n",
       "      <td>74.000</td>\n",
       "      <td>4640.770</td>\n",
       "      <td>543.280</td>\n",
       "      <td>[KADIN, AKTIFSPOR]</td>\n",
       "      <td>77.000</td>\n",
       "      <td>5184.050</td>\n",
       "    </tr>\n",
       "    <tr>\n",
       "      <th>10954</th>\n",
       "      <td>b27e241a-a901-11e9-a2fc-000d3a38a36f</td>\n",
       "      <td>Mobile</td>\n",
       "      <td>Mobile</td>\n",
       "      <td>2015-09-12</td>\n",
       "      <td>2021-04-01</td>\n",
       "      <td>2021-04-01</td>\n",
       "      <td>2019-10-08</td>\n",
       "      <td>72.000</td>\n",
       "      <td>3.000</td>\n",
       "      <td>292.930</td>\n",
       "      <td>5004.950</td>\n",
       "      <td>[AKTIFCOCUK, ERKEK, KADIN, AKTIFSPOR]</td>\n",
       "      <td>75.000</td>\n",
       "      <td>5297.880</td>\n",
       "    </tr>\n",
       "    <tr>\n",
       "      <th>8068</th>\n",
       "      <td>d696c654-2633-11ea-8e1c-000d3a38a36f</td>\n",
       "      <td>Ios App</td>\n",
       "      <td>Ios App</td>\n",
       "      <td>2017-05-10</td>\n",
       "      <td>2021-04-13</td>\n",
       "      <td>2021-04-13</td>\n",
       "      <td>2019-08-15</td>\n",
       "      <td>69.000</td>\n",
       "      <td>1.000</td>\n",
       "      <td>82.480</td>\n",
       "      <td>16836.090</td>\n",
       "      <td>[AKTIFCOCUK, ERKEK, COCUK, KADIN, AKTIFSPOR]</td>\n",
       "      <td>70.000</td>\n",
       "      <td>16918.570</td>\n",
       "    </tr>\n",
       "    <tr>\n",
       "      <th>7330</th>\n",
       "      <td>a4d534a2-5b1b-11eb-8dbd-000d3a38a36f</td>\n",
       "      <td>Desktop</td>\n",
       "      <td>Desktop</td>\n",
       "      <td>2020-02-16</td>\n",
       "      <td>2021-04-30</td>\n",
       "      <td>2021-04-30</td>\n",
       "      <td>2020-12-18</td>\n",
       "      <td>66.000</td>\n",
       "      <td>4.000</td>\n",
       "      <td>843.680</td>\n",
       "      <td>17599.890</td>\n",
       "      <td>[ERKEK, KADIN, AKTIFSPOR]</td>\n",
       "      <td>70.000</td>\n",
       "      <td>18443.570</td>\n",
       "    </tr>\n",
       "  </tbody>\n",
       "</table>\n",
       "</div>"
      ],
      "text/plain": [
       "                                  master_id order_channel last_order_channel first_order_date last_order_date last_order_date_online last_order_date_offline  order_num_total_ever_online  order_num_total_ever_offline  customer_value_total_ever_offline  customer_value_total_ever_online                   interested_in_categories_12  order_total  price_total\n",
       "11150  5d1c466a-9cfd-11e9-9897-000d3a38a36f   Android App            Desktop       2013-10-11      2021-04-30             2021-04-30              2020-12-24                      200.000                         2.000                            684.970                         45220.130  [AKTIFCOCUK, ERKEK, COCUK, KADIN, AKTIFSPOR]      202.000    45905.100\n",
       "7223   cba59206-9dd1-11e9-9897-000d3a38a36f   Android App        Android App       2013-02-21      2021-05-09             2021-05-09              2020-01-25                      130.000                         1.000                             49.990                         12232.250         [AKTIFCOCUK, ERKEK, KADIN, AKTIFSPOR]      131.000    12282.240\n",
       "8783   a57f4302-b1a8-11e9-89fa-000d3a38a36f   Android App            Offline       2019-08-07      2020-11-04             2020-09-07              2020-11-04                        2.000                       109.000                          10239.460                           143.980  [AKTIFCOCUK, ERKEK, COCUK, KADIN, AKTIFSPOR]      111.000    10383.440\n",
       "2619   fdbe8304-a7ab-11e9-a2fc-000d3a38a36f   Android App            Offline       2018-10-18      2020-06-30             2018-10-18              2020-06-30                        1.000                        87.000                           8432.250                           139.980                                       [ERKEK]       88.000     8572.230\n",
       "6322   329968c6-a0e2-11e9-a2fc-000d3a38a36f       Ios App            Ios App       2019-02-14      2021-04-05             2021-04-05              2020-02-17                        2.000                        81.000                           3997.550                           242.810                                       [ERKEK]       83.000     4240.360\n",
       "7613   73fd19aa-9e37-11e9-9897-000d3a38a36f       Ios App            Offline       2014-01-14      2021-05-18             2021-01-30              2021-05-18                       81.000                         1.000                           1263.760                         32654.340              [ERKEK, COCUK, KADIN, AKTIFSPOR]       82.000    33918.100\n",
       "9347   44d032ee-a0d4-11e9-a2fc-000d3a38a36f        Mobile             Mobile       2019-02-11      2021-02-11             2021-02-11              2020-12-24                        3.000                        74.000                           4640.770                           543.280                            [KADIN, AKTIFSPOR]       77.000     5184.050\n",
       "10954  b27e241a-a901-11e9-a2fc-000d3a38a36f        Mobile             Mobile       2015-09-12      2021-04-01             2021-04-01              2019-10-08                       72.000                         3.000                            292.930                          5004.950         [AKTIFCOCUK, ERKEK, KADIN, AKTIFSPOR]       75.000     5297.880\n",
       "8068   d696c654-2633-11ea-8e1c-000d3a38a36f       Ios App            Ios App       2017-05-10      2021-04-13             2021-04-13              2019-08-15                       69.000                         1.000                             82.480                         16836.090  [AKTIFCOCUK, ERKEK, COCUK, KADIN, AKTIFSPOR]       70.000    16918.570\n",
       "7330   a4d534a2-5b1b-11eb-8dbd-000d3a38a36f       Desktop            Desktop       2020-02-16      2021-04-30             2021-04-30              2020-12-18                       66.000                         4.000                            843.680                         17599.890                     [ERKEK, KADIN, AKTIFSPOR]       70.000    18443.570"
      ]
     },
     "execution_count": 37,
     "metadata": {},
     "output_type": "execute_result"
    }
   ],
   "source": [
    "df.sort_values('order_total',ascending=False)[:10]"
   ]
  },
  {
   "cell_type": "code",
   "execution_count": 38,
   "metadata": {},
   "outputs": [],
   "source": [
    "# 8. Veri ön hazırlık sürecini fonksiyonlaştırınız."
   ]
  },
  {
   "cell_type": "code",
   "execution_count": 39,
   "metadata": {},
   "outputs": [
    {
     "name": "stdout",
     "output_type": "stream",
     "text": [
      "##################### Shape #####################\n",
      "(19945, 14)\n",
      "##################### Types #####################\n",
      "master_id                                    object\n",
      "order_channel                                object\n",
      "last_order_channel                           object\n",
      "first_order_date                     datetime64[ns]\n",
      "last_order_date                      datetime64[ns]\n",
      "last_order_date_online               datetime64[ns]\n",
      "last_order_date_offline              datetime64[ns]\n",
      "order_num_total_ever_online                 float64\n",
      "order_num_total_ever_offline                float64\n",
      "customer_value_total_ever_offline           float64\n",
      "customer_value_total_ever_online            float64\n",
      "interested_in_categories_12                  object\n",
      "order_total                                 float64\n",
      "price_total                                 float64\n",
      "dtype: object\n",
      "##################### Head #####################\n",
      "                              master_id order_channel last_order_channel first_order_date last_order_date last_order_date_online last_order_date_offline  order_num_total_ever_online  order_num_total_ever_offline  customer_value_total_ever_offline  customer_value_total_ever_online       interested_in_categories_12  order_total  price_total\n",
      "0  cc294636-19f0-11eb-8d74-000d3a38a36f   Android App            Offline       2020-10-30      2021-02-26             2021-02-21              2021-02-26                        4.000                         1.000                            139.990                           799.380                           [KADIN]        5.000      939.370\n",
      "1  f431bd5a-ab7b-11e9-a2fc-000d3a38a36f   Android App             Mobile       2017-02-08      2021-02-16             2021-02-16              2020-01-10                       19.000                         2.000                            159.970                          1853.580  [ERKEK, COCUK, KADIN, AKTIFSPOR]       21.000     2013.550\n",
      "2  69b69676-1a40-11ea-941b-000d3a38a36f   Android App        Android App       2019-11-27      2020-11-27             2020-11-27              2019-12-01                        3.000                         2.000                            189.970                           395.350                    [ERKEK, KADIN]        5.000      585.320\n",
      "3  1854e56c-491f-11eb-806e-000d3a38a36f   Android App        Android App       2021-01-06      2021-01-17             2021-01-17              2021-01-06                        1.000                         1.000                             39.990                            81.980               [AKTIFCOCUK, COCUK]        2.000      121.970\n",
      "4  d6ea1074-f1f5-11e9-9346-000d3a38a36f       Desktop            Desktop       2019-08-03      2021-03-07             2021-03-07              2019-08-03                        1.000                         1.000                             49.990                           159.990                       [AKTIFSPOR]        2.000      209.980\n",
      "##################### Tail #####################\n",
      "                                  master_id order_channel last_order_channel first_order_date last_order_date last_order_date_online last_order_date_offline  order_num_total_ever_online  order_num_total_ever_offline  customer_value_total_ever_offline  customer_value_total_ever_online interested_in_categories_12  order_total  price_total\n",
      "19940  727e2b6e-ddd4-11e9-a848-000d3a38a36f   Android App            Offline       2019-09-21      2020-07-05             2020-06-05              2020-07-05                        1.000                         2.000                            289.980                           111.980          [ERKEK, AKTIFSPOR]        3.000      401.960\n",
      "19941  25cd53d4-61bf-11ea-8dd8-000d3a38a36f       Desktop            Desktop       2020-03-01      2020-12-22             2020-12-22              2020-03-01                        1.000                         1.000                            150.480                           239.990                 [AKTIFSPOR]        2.000      390.470\n",
      "19942  8aea4c2a-d6fc-11e9-93bc-000d3a38a36f       Ios App            Ios App       2019-09-11      2021-05-24             2021-05-24              2019-09-11                        2.000                         1.000                            139.980                           492.960                 [AKTIFSPOR]        3.000      632.940\n",
      "19943  e50bb46c-ff30-11e9-a5e8-000d3a38a36f   Android App        Android App       2019-03-27      2021-02-13             2021-02-13              2021-01-08                        1.000                         5.000                            711.790                           297.980          [ERKEK, AKTIFSPOR]        6.000     1009.770\n",
      "19944  740998d2-b1f7-11e9-89fa-000d3a38a36f   Android App        Android App       2019-09-03      2020-06-06             2020-06-06              2019-09-03                        1.000                         1.000                             39.990                           221.980          [KADIN, AKTIFSPOR]        2.000      261.970\n",
      "##################### NA #####################\n",
      "master_id                            0\n",
      "order_channel                        0\n",
      "last_order_channel                   0\n",
      "first_order_date                     0\n",
      "last_order_date                      0\n",
      "last_order_date_online               0\n",
      "last_order_date_offline              0\n",
      "order_num_total_ever_online          0\n",
      "order_num_total_ever_offline         0\n",
      "customer_value_total_ever_offline    0\n",
      "customer_value_total_ever_online     0\n",
      "interested_in_categories_12          0\n",
      "order_total                          0\n",
      "price_total                          0\n",
      "dtype: int64\n",
      "##################### Quantiles #####################\n",
      "                                      count                           mean                  min                   0%                   5%                  50%                  95%                  99%                 100%                  max     std\n",
      "first_order_date                      19945  2019-03-22 16:43:55.246929152  2013-01-14 00:00:00  2013-01-14 00:00:00  2015-09-27 00:00:00  2019-08-20 00:00:00  2020-11-03 19:12:00  2021-03-09 13:26:24  2021-05-27 00:00:00  2021-05-27 00:00:00     NaN\n",
      "last_order_date                       19945  2021-01-17 12:59:57.653547264  2020-05-30 00:00:00  2020-05-30 00:00:00  2020-07-01 00:00:00  2021-02-10 00:00:00  2021-05-23 00:00:00  2021-05-28 00:00:00  2021-05-30 00:00:00  2021-05-30 00:00:00     NaN\n",
      "last_order_date_online                19945  2020-08-10 01:08:52.644773376  2014-02-24 00:00:00  2014-02-24 00:00:00  2018-04-10 04:48:00  2020-12-14 00:00:00  2021-05-20 00:00:00  2021-05-28 00:00:00  2021-05-30 00:00:00  2021-05-30 00:00:00     NaN\n",
      "last_order_date_offline               19945  2020-05-17 12:07:24.021058048  2019-01-22 00:00:00  2019-01-22 00:00:00  2019-04-09 00:00:00  2020-06-22 00:00:00  2021-04-20 00:00:00  2021-05-26 00:00:00  2021-05-28 00:00:00  2021-05-28 00:00:00     NaN\n",
      "order_num_total_ever_online       19945.000                          3.111                1.000                1.000                1.000                2.000               10.000               20.000              200.000              200.000   4.226\n",
      "order_num_total_ever_offline      19945.000                          1.914                1.000                1.000                1.000                1.000                4.000                7.000              109.000              109.000   2.063\n",
      "customer_value_total_ever_offline 19945.000                        253.923               10.000               10.000               39.990              179.980              694.222             1219.947            18119.140            18119.140 301.533\n",
      "customer_value_total_ever_online  19945.000                        497.322               12.990               12.990               63.990              286.460             1556.726             3143.810            45220.130            45220.130 832.602\n",
      "order_total                       19945.000                          5.025                2.000                2.000                2.000                4.000               12.000               22.000              202.000              202.000   4.743\n",
      "price_total                       19945.000                        751.244               44.980               44.980              175.480              545.270             1921.924             3606.356            45905.100            45905.100 895.402\n"
     ]
    }
   ],
   "source": [
    "def check_df(dataframe, head=5):\n",
    "    print(\"##################### Shape #####################\")\n",
    "    print(dataframe.shape)\n",
    "    print(\"##################### Types #####################\")\n",
    "    print(dataframe.dtypes)\n",
    "    print(\"##################### Head #####################\")\n",
    "    print(dataframe.head(head))\n",
    "    print(\"##################### Tail #####################\")\n",
    "    print(dataframe.tail(head))\n",
    "    print(\"##################### NA #####################\")\n",
    "    print(dataframe.isnull().sum())\n",
    "    print(\"##################### Quantiles #####################\")\n",
    "    print(dataframe.describe([0, 0.05, 0.50, 0.95, 0.99, 1]).T)\n",
    "\n",
    "check_df(df)"
   ]
  },
  {
   "cell_type": "code",
   "execution_count": 40,
   "metadata": {},
   "outputs": [
    {
     "data": {
      "text/html": [
       "<div>\n",
       "<style scoped>\n",
       "    .dataframe tbody tr th:only-of-type {\n",
       "        vertical-align: middle;\n",
       "    }\n",
       "\n",
       "    .dataframe tbody tr th {\n",
       "        vertical-align: top;\n",
       "    }\n",
       "\n",
       "    .dataframe thead th {\n",
       "        text-align: right;\n",
       "    }\n",
       "</style>\n",
       "<table border=\"1\" class=\"dataframe\">\n",
       "  <thead>\n",
       "    <tr style=\"text-align: right;\">\n",
       "      <th></th>\n",
       "      <th>master_id</th>\n",
       "      <th>order_channel</th>\n",
       "      <th>last_order_channel</th>\n",
       "      <th>first_order_date</th>\n",
       "      <th>last_order_date</th>\n",
       "      <th>last_order_date_online</th>\n",
       "      <th>last_order_date_offline</th>\n",
       "      <th>order_num_total_ever_online</th>\n",
       "      <th>order_num_total_ever_offline</th>\n",
       "      <th>customer_value_total_ever_offline</th>\n",
       "      <th>customer_value_total_ever_online</th>\n",
       "      <th>interested_in_categories_12</th>\n",
       "      <th>order_total</th>\n",
       "      <th>price_total</th>\n",
       "    </tr>\n",
       "  </thead>\n",
       "  <tbody>\n",
       "    <tr>\n",
       "      <th>17817</th>\n",
       "      <td>00016786-2f5a-11ea-bb80-000d3a38a36f</td>\n",
       "      <td>Mobile</td>\n",
       "      <td>Mobile</td>\n",
       "      <td>2019-11-19</td>\n",
       "      <td>2021-05-22</td>\n",
       "      <td>2021-05-22</td>\n",
       "      <td>2020-10-05</td>\n",
       "      <td>2.000</td>\n",
       "      <td>3.000</td>\n",
       "      <td>427.190</td>\n",
       "      <td>348.880</td>\n",
       "      <td>[ERKEK, COCUK, AKTIFSPOR]</td>\n",
       "      <td>5.000</td>\n",
       "      <td>776.070</td>\n",
       "    </tr>\n",
       "  </tbody>\n",
       "</table>\n",
       "</div>"
      ],
      "text/plain": [
       "                                  master_id order_channel last_order_channel first_order_date last_order_date last_order_date_online last_order_date_offline  order_num_total_ever_online  order_num_total_ever_offline  customer_value_total_ever_offline  customer_value_total_ever_online interested_in_categories_12  order_total  price_total\n",
       "17817  00016786-2f5a-11ea-bb80-000d3a38a36f        Mobile             Mobile       2019-11-19      2021-05-22             2021-05-22              2020-10-05                        2.000                         3.000                            427.190                           348.880   [ERKEK, COCUK, AKTIFSPOR]        5.000      776.070"
      ]
     },
     "execution_count": 40,
     "metadata": {},
     "output_type": "execute_result"
    }
   ],
   "source": [
    "df[df[\"master_id\"] == \"00016786-2f5a-11ea-bb80-000d3a38a36f\"]"
   ]
  },
  {
   "cell_type": "code",
   "execution_count": 41,
   "metadata": {},
   "outputs": [
    {
     "data": {
      "text/plain": [
       "17817    00016786-2f5a-11ea-bb80-000d3a38a36f\n",
       "Name: master_id, dtype: object"
      ]
     },
     "execution_count": 41,
     "metadata": {},
     "output_type": "execute_result"
    }
   ],
   "source": [
    "df.loc[df[\"master_id\"] == \"00016786-2f5a-11ea-bb80-000d3a38a36f\", \"master_id\"]"
   ]
  },
  {
   "cell_type": "code",
   "execution_count": 42,
   "metadata": {},
   "outputs": [],
   "source": [
    "###############################################################\n",
    "\n",
    "# GÖREV 2: RFM Metriklerinin Hesaplanması recency , frequency , monetary\n",
    "\n",
    "###############################################################"
   ]
  },
  {
   "cell_type": "code",
   "execution_count": 43,
   "metadata": {},
   "outputs": [
    {
     "data": {
      "text/plain": [
       "Timestamp('2021-05-30 00:00:00')"
      ]
     },
     "execution_count": 43,
     "metadata": {},
     "output_type": "execute_result"
    }
   ],
   "source": [
    "df['last_order_date'].max()"
   ]
  },
  {
   "cell_type": "code",
   "execution_count": 44,
   "metadata": {},
   "outputs": [
    {
     "data": {
      "text/plain": [
       "datetime.datetime(2021, 6, 1, 0, 0)"
      ]
     },
     "execution_count": 44,
     "metadata": {},
     "output_type": "execute_result"
    }
   ],
   "source": [
    "today_date=dt.datetime(2021,6,1)\n",
    "today_date"
   ]
  },
  {
   "cell_type": "code",
   "execution_count": 45,
   "metadata": {},
   "outputs": [
    {
     "data": {
      "text/plain": [
       "dtype('<M8[ns]')"
      ]
     },
     "execution_count": 45,
     "metadata": {},
     "output_type": "execute_result"
    }
   ],
   "source": [
    "df['last_order_date'].dtypes"
   ]
  },
  {
   "cell_type": "code",
   "execution_count": 46,
   "metadata": {},
   "outputs": [
    {
     "data": {
      "text/html": [
       "<div>\n",
       "<style scoped>\n",
       "    .dataframe tbody tr th:only-of-type {\n",
       "        vertical-align: middle;\n",
       "    }\n",
       "\n",
       "    .dataframe tbody tr th {\n",
       "        vertical-align: top;\n",
       "    }\n",
       "\n",
       "    .dataframe thead th {\n",
       "        text-align: right;\n",
       "    }\n",
       "</style>\n",
       "<table border=\"1\" class=\"dataframe\">\n",
       "  <thead>\n",
       "    <tr style=\"text-align: right;\">\n",
       "      <th></th>\n",
       "      <th>last_order_date</th>\n",
       "      <th>order_total</th>\n",
       "      <th>price_total</th>\n",
       "    </tr>\n",
       "    <tr>\n",
       "      <th>master_id</th>\n",
       "      <th></th>\n",
       "      <th></th>\n",
       "      <th></th>\n",
       "    </tr>\n",
       "  </thead>\n",
       "  <tbody>\n",
       "    <tr>\n",
       "      <th>00016786-2f5a-11ea-bb80-000d3a38a36f</th>\n",
       "      <td>10</td>\n",
       "      <td>5.000</td>\n",
       "      <td>776.070</td>\n",
       "    </tr>\n",
       "    <tr>\n",
       "      <th>00034aaa-a838-11e9-a2fc-000d3a38a36f</th>\n",
       "      <td>298</td>\n",
       "      <td>3.000</td>\n",
       "      <td>269.470</td>\n",
       "    </tr>\n",
       "    <tr>\n",
       "      <th>000be838-85df-11ea-a90b-000d3a38a36f</th>\n",
       "      <td>213</td>\n",
       "      <td>4.000</td>\n",
       "      <td>722.690</td>\n",
       "    </tr>\n",
       "    <tr>\n",
       "      <th>000c1fe2-a8b7-11ea-8479-000d3a38a36f</th>\n",
       "      <td>27</td>\n",
       "      <td>7.000</td>\n",
       "      <td>874.160</td>\n",
       "    </tr>\n",
       "    <tr>\n",
       "      <th>000f5e3e-9dde-11ea-80cd-000d3a38a36f</th>\n",
       "      <td>20</td>\n",
       "      <td>7.000</td>\n",
       "      <td>1620.330</td>\n",
       "    </tr>\n",
       "  </tbody>\n",
       "</table>\n",
       "</div>"
      ],
      "text/plain": [
       "                                      last_order_date  order_total  price_total\n",
       "master_id                                                                      \n",
       "00016786-2f5a-11ea-bb80-000d3a38a36f               10        5.000      776.070\n",
       "00034aaa-a838-11e9-a2fc-000d3a38a36f              298        3.000      269.470\n",
       "000be838-85df-11ea-a90b-000d3a38a36f              213        4.000      722.690\n",
       "000c1fe2-a8b7-11ea-8479-000d3a38a36f               27        7.000      874.160\n",
       "000f5e3e-9dde-11ea-80cd-000d3a38a36f               20        7.000     1620.330"
      ]
     },
     "execution_count": 46,
     "metadata": {},
     "output_type": "execute_result"
    }
   ],
   "source": [
    "rfm=df.groupby('master_id').agg({'last_order_date': lambda last_order_date: ( today_date - last_order_date.max() ).days,\n",
    "                                 \"order_total\": lambda order_total: order_total.sum(),\n",
    "                                 \"price_total\": lambda price_total: price_total.sum()})\n",
    "\n",
    "rfm.head()"
   ]
  },
  {
   "cell_type": "code",
   "execution_count": 47,
   "metadata": {},
   "outputs": [
    {
     "data": {
      "text/html": [
       "<div>\n",
       "<style scoped>\n",
       "    .dataframe tbody tr th:only-of-type {\n",
       "        vertical-align: middle;\n",
       "    }\n",
       "\n",
       "    .dataframe tbody tr th {\n",
       "        vertical-align: top;\n",
       "    }\n",
       "\n",
       "    .dataframe thead th {\n",
       "        text-align: right;\n",
       "    }\n",
       "</style>\n",
       "<table border=\"1\" class=\"dataframe\">\n",
       "  <thead>\n",
       "    <tr style=\"text-align: right;\">\n",
       "      <th></th>\n",
       "      <th>recency</th>\n",
       "      <th>frequency</th>\n",
       "      <th>monetary</th>\n",
       "    </tr>\n",
       "    <tr>\n",
       "      <th>master_id</th>\n",
       "      <th></th>\n",
       "      <th></th>\n",
       "      <th></th>\n",
       "    </tr>\n",
       "  </thead>\n",
       "  <tbody>\n",
       "    <tr>\n",
       "      <th>00016786-2f5a-11ea-bb80-000d3a38a36f</th>\n",
       "      <td>10</td>\n",
       "      <td>5.000</td>\n",
       "      <td>776.070</td>\n",
       "    </tr>\n",
       "    <tr>\n",
       "      <th>00034aaa-a838-11e9-a2fc-000d3a38a36f</th>\n",
       "      <td>298</td>\n",
       "      <td>3.000</td>\n",
       "      <td>269.470</td>\n",
       "    </tr>\n",
       "    <tr>\n",
       "      <th>000be838-85df-11ea-a90b-000d3a38a36f</th>\n",
       "      <td>213</td>\n",
       "      <td>4.000</td>\n",
       "      <td>722.690</td>\n",
       "    </tr>\n",
       "    <tr>\n",
       "      <th>000c1fe2-a8b7-11ea-8479-000d3a38a36f</th>\n",
       "      <td>27</td>\n",
       "      <td>7.000</td>\n",
       "      <td>874.160</td>\n",
       "    </tr>\n",
       "    <tr>\n",
       "      <th>000f5e3e-9dde-11ea-80cd-000d3a38a36f</th>\n",
       "      <td>20</td>\n",
       "      <td>7.000</td>\n",
       "      <td>1620.330</td>\n",
       "    </tr>\n",
       "  </tbody>\n",
       "</table>\n",
       "</div>"
      ],
      "text/plain": [
       "                                      recency  frequency  monetary\n",
       "master_id                                                         \n",
       "00016786-2f5a-11ea-bb80-000d3a38a36f       10      5.000   776.070\n",
       "00034aaa-a838-11e9-a2fc-000d3a38a36f      298      3.000   269.470\n",
       "000be838-85df-11ea-a90b-000d3a38a36f      213      4.000   722.690\n",
       "000c1fe2-a8b7-11ea-8479-000d3a38a36f       27      7.000   874.160\n",
       "000f5e3e-9dde-11ea-80cd-000d3a38a36f       20      7.000  1620.330"
      ]
     },
     "execution_count": 47,
     "metadata": {},
     "output_type": "execute_result"
    }
   ],
   "source": [
    "rfm.columns = ['recency', 'frequency', 'monetary']\n",
    "rfm.head()"
   ]
  },
  {
   "cell_type": "code",
   "execution_count": 48,
   "metadata": {},
   "outputs": [],
   "source": [
    "###############################################################\n",
    "# GÖREV 3: RF ve RFM Skorlarının Hesaplanması\n",
    "###############################################################"
   ]
  },
  {
   "cell_type": "code",
   "execution_count": 49,
   "metadata": {},
   "outputs": [],
   "source": [
    "rfm['recency_s'] =pd.qcut(rfm['recency'],5,labels=[5,4,3,2,1])"
   ]
  },
  {
   "cell_type": "code",
   "execution_count": 50,
   "metadata": {},
   "outputs": [],
   "source": [
    "rfm['frequency_s']=pd.qcut(rfm['frequency'].rank(method='first'),5,labels=[1,2,3,4,5])"
   ]
  },
  {
   "cell_type": "code",
   "execution_count": 51,
   "metadata": {},
   "outputs": [],
   "source": [
    "rfm[\"monetary_s\"] = pd.qcut(rfm['monetary'], 5, labels=[1, 2, 3, 4, 5])"
   ]
  },
  {
   "cell_type": "code",
   "execution_count": 52,
   "metadata": {},
   "outputs": [],
   "source": [
    "rfm['RFM_S']=(rfm['recency_s'].astype(str)+rfm['frequency_s'].astype(str))\n",
    "rfm[\"RFM_S\"] = (rfm['recency_s'].astype(str) + rfm['frequency_s'].astype(str))\n",
    "rfm[\"RFM_S\"] = (rfm['recency_s'].astype(str) + rfm['frequency_s'].astype(str))"
   ]
  },
  {
   "cell_type": "code",
   "execution_count": 55,
   "metadata": {},
   "outputs": [
    {
     "data": {
      "text/html": [
       "<div>\n",
       "<style scoped>\n",
       "    .dataframe tbody tr th:only-of-type {\n",
       "        vertical-align: middle;\n",
       "    }\n",
       "\n",
       "    .dataframe tbody tr th {\n",
       "        vertical-align: top;\n",
       "    }\n",
       "\n",
       "    .dataframe thead th {\n",
       "        text-align: right;\n",
       "    }\n",
       "</style>\n",
       "<table border=\"1\" class=\"dataframe\">\n",
       "  <thead>\n",
       "    <tr style=\"text-align: right;\">\n",
       "      <th></th>\n",
       "      <th>recency</th>\n",
       "      <th>frequency</th>\n",
       "      <th>monetary</th>\n",
       "      <th>recency_s</th>\n",
       "      <th>frequency_s</th>\n",
       "      <th>monetary_s</th>\n",
       "      <th>RFM_S</th>\n",
       "    </tr>\n",
       "    <tr>\n",
       "      <th>master_id</th>\n",
       "      <th></th>\n",
       "      <th></th>\n",
       "      <th></th>\n",
       "      <th></th>\n",
       "      <th></th>\n",
       "      <th></th>\n",
       "      <th></th>\n",
       "    </tr>\n",
       "  </thead>\n",
       "  <tbody>\n",
       "    <tr>\n",
       "      <th>00016786-2f5a-11ea-bb80-000d3a38a36f</th>\n",
       "      <td>10</td>\n",
       "      <td>5.000</td>\n",
       "      <td>776.070</td>\n",
       "      <td>5</td>\n",
       "      <td>4</td>\n",
       "      <td>4</td>\n",
       "      <td>54</td>\n",
       "    </tr>\n",
       "    <tr>\n",
       "      <th>00034aaa-a838-11e9-a2fc-000d3a38a36f</th>\n",
       "      <td>298</td>\n",
       "      <td>3.000</td>\n",
       "      <td>269.470</td>\n",
       "      <td>1</td>\n",
       "      <td>2</td>\n",
       "      <td>1</td>\n",
       "      <td>12</td>\n",
       "    </tr>\n",
       "    <tr>\n",
       "      <th>000be838-85df-11ea-a90b-000d3a38a36f</th>\n",
       "      <td>213</td>\n",
       "      <td>4.000</td>\n",
       "      <td>722.690</td>\n",
       "      <td>2</td>\n",
       "      <td>3</td>\n",
       "      <td>4</td>\n",
       "      <td>23</td>\n",
       "    </tr>\n",
       "    <tr>\n",
       "      <th>000c1fe2-a8b7-11ea-8479-000d3a38a36f</th>\n",
       "      <td>27</td>\n",
       "      <td>7.000</td>\n",
       "      <td>874.160</td>\n",
       "      <td>5</td>\n",
       "      <td>4</td>\n",
       "      <td>4</td>\n",
       "      <td>54</td>\n",
       "    </tr>\n",
       "    <tr>\n",
       "      <th>000f5e3e-9dde-11ea-80cd-000d3a38a36f</th>\n",
       "      <td>20</td>\n",
       "      <td>7.000</td>\n",
       "      <td>1620.330</td>\n",
       "      <td>5</td>\n",
       "      <td>4</td>\n",
       "      <td>5</td>\n",
       "      <td>54</td>\n",
       "    </tr>\n",
       "  </tbody>\n",
       "</table>\n",
       "</div>"
      ],
      "text/plain": [
       "                                      recency  frequency  monetary recency_s frequency_s monetary_s RFM_S\n",
       "master_id                                                                                                \n",
       "00016786-2f5a-11ea-bb80-000d3a38a36f       10      5.000   776.070         5           4          4    54\n",
       "00034aaa-a838-11e9-a2fc-000d3a38a36f      298      3.000   269.470         1           2          1    12\n",
       "000be838-85df-11ea-a90b-000d3a38a36f      213      4.000   722.690         2           3          4    23\n",
       "000c1fe2-a8b7-11ea-8479-000d3a38a36f       27      7.000   874.160         5           4          4    54\n",
       "000f5e3e-9dde-11ea-80cd-000d3a38a36f       20      7.000  1620.330         5           4          5    54"
      ]
     },
     "execution_count": 55,
     "metadata": {},
     "output_type": "execute_result"
    }
   ],
   "source": [
    "rfm.head()"
   ]
  },
  {
   "cell_type": "code",
   "execution_count": null,
   "metadata": {},
   "outputs": [],
   "source": [
    "# GÖREV 4: RF Skorlarının Segment Olarak Tanımlanması"
   ]
  },
  {
   "cell_type": "code",
   "execution_count": 57,
   "metadata": {},
   "outputs": [],
   "source": [
    "seg_map = {\n",
    "    r'[1-2][1-2]': 'hibernating',\n",
    "    r'[1-2][3-4]': 'at_Risk',\n",
    "    r'[1-2]5': 'cant_loose',\n",
    "    r'3[1-2]': 'about_to_sleep',\n",
    "    r'33': 'need_attention',\n",
    "    r'[3-4][4-5]': 'loyal_customers',\n",
    "    r'41': 'promising',\n",
    "    r'51': 'new_customers',\n",
    "    r'[4-5][2-3]': 'potential_loyalists',\n",
    "    r'5[4-5]': 'champions'\n",
    "}"
   ]
  },
  {
   "cell_type": "code",
   "execution_count": 58,
   "metadata": {},
   "outputs": [],
   "source": [
    "rfm['segment']=rfm['RFM_S'].replace(seg_map,regex=True)"
   ]
  },
  {
   "cell_type": "code",
   "execution_count": 61,
   "metadata": {},
   "outputs": [
    {
     "data": {
      "text/html": [
       "<div>\n",
       "<style scoped>\n",
       "    .dataframe tbody tr th:only-of-type {\n",
       "        vertical-align: middle;\n",
       "    }\n",
       "\n",
       "    .dataframe tbody tr th {\n",
       "        vertical-align: top;\n",
       "    }\n",
       "\n",
       "    .dataframe thead tr th {\n",
       "        text-align: left;\n",
       "    }\n",
       "\n",
       "    .dataframe thead tr:last-of-type th {\n",
       "        text-align: right;\n",
       "    }\n",
       "</style>\n",
       "<table border=\"1\" class=\"dataframe\">\n",
       "  <thead>\n",
       "    <tr>\n",
       "      <th></th>\n",
       "      <th colspan=\"2\" halign=\"left\">recency</th>\n",
       "      <th colspan=\"2\" halign=\"left\">frequency</th>\n",
       "      <th colspan=\"2\" halign=\"left\">monetary</th>\n",
       "    </tr>\n",
       "    <tr>\n",
       "      <th></th>\n",
       "      <th>mean</th>\n",
       "      <th>count</th>\n",
       "      <th>mean</th>\n",
       "      <th>count</th>\n",
       "      <th>mean</th>\n",
       "      <th>count</th>\n",
       "    </tr>\n",
       "    <tr>\n",
       "      <th>segment</th>\n",
       "      <th></th>\n",
       "      <th></th>\n",
       "      <th></th>\n",
       "      <th></th>\n",
       "      <th></th>\n",
       "      <th></th>\n",
       "    </tr>\n",
       "  </thead>\n",
       "  <tbody>\n",
       "    <tr>\n",
       "      <th>about_to_sleep</th>\n",
       "      <td>114.032</td>\n",
       "      <td>1643</td>\n",
       "      <td>2.407</td>\n",
       "      <td>1643</td>\n",
       "      <td>361.649</td>\n",
       "      <td>1643</td>\n",
       "    </tr>\n",
       "    <tr>\n",
       "      <th>at_Risk</th>\n",
       "      <td>242.329</td>\n",
       "      <td>3152</td>\n",
       "      <td>4.470</td>\n",
       "      <td>3152</td>\n",
       "      <td>648.325</td>\n",
       "      <td>3152</td>\n",
       "    </tr>\n",
       "    <tr>\n",
       "      <th>cant_loose</th>\n",
       "      <td>235.159</td>\n",
       "      <td>1194</td>\n",
       "      <td>10.717</td>\n",
       "      <td>1194</td>\n",
       "      <td>1481.652</td>\n",
       "      <td>1194</td>\n",
       "    </tr>\n",
       "    <tr>\n",
       "      <th>champions</th>\n",
       "      <td>17.142</td>\n",
       "      <td>1920</td>\n",
       "      <td>8.965</td>\n",
       "      <td>1920</td>\n",
       "      <td>1410.709</td>\n",
       "      <td>1920</td>\n",
       "    </tr>\n",
       "    <tr>\n",
       "      <th>hibernating</th>\n",
       "      <td>247.426</td>\n",
       "      <td>3589</td>\n",
       "      <td>2.391</td>\n",
       "      <td>3589</td>\n",
       "      <td>362.583</td>\n",
       "      <td>3589</td>\n",
       "    </tr>\n",
       "    <tr>\n",
       "      <th>loyal_customers</th>\n",
       "      <td>82.558</td>\n",
       "      <td>3375</td>\n",
       "      <td>8.356</td>\n",
       "      <td>3375</td>\n",
       "      <td>1216.257</td>\n",
       "      <td>3375</td>\n",
       "    </tr>\n",
       "    <tr>\n",
       "      <th>need_attention</th>\n",
       "      <td>113.037</td>\n",
       "      <td>806</td>\n",
       "      <td>3.739</td>\n",
       "      <td>806</td>\n",
       "      <td>553.437</td>\n",
       "      <td>806</td>\n",
       "    </tr>\n",
       "    <tr>\n",
       "      <th>new_customers</th>\n",
       "      <td>17.976</td>\n",
       "      <td>673</td>\n",
       "      <td>2.000</td>\n",
       "      <td>673</td>\n",
       "      <td>344.049</td>\n",
       "      <td>673</td>\n",
       "    </tr>\n",
       "    <tr>\n",
       "      <th>potential_loyalists</th>\n",
       "      <td>36.870</td>\n",
       "      <td>2925</td>\n",
       "      <td>3.311</td>\n",
       "      <td>2925</td>\n",
       "      <td>533.741</td>\n",
       "      <td>2925</td>\n",
       "    </tr>\n",
       "    <tr>\n",
       "      <th>promising</th>\n",
       "      <td>58.695</td>\n",
       "      <td>668</td>\n",
       "      <td>2.000</td>\n",
       "      <td>668</td>\n",
       "      <td>334.153</td>\n",
       "      <td>668</td>\n",
       "    </tr>\n",
       "  </tbody>\n",
       "</table>\n",
       "</div>"
      ],
      "text/plain": [
       "                    recency       frequency       monetary      \n",
       "                       mean count      mean count     mean count\n",
       "segment                                                         \n",
       "about_to_sleep      114.032  1643     2.407  1643  361.649  1643\n",
       "at_Risk             242.329  3152     4.470  3152  648.325  3152\n",
       "cant_loose          235.159  1194    10.717  1194 1481.652  1194\n",
       "champions            17.142  1920     8.965  1920 1410.709  1920\n",
       "hibernating         247.426  3589     2.391  3589  362.583  3589\n",
       "loyal_customers      82.558  3375     8.356  3375 1216.257  3375\n",
       "need_attention      113.037   806     3.739   806  553.437   806\n",
       "new_customers        17.976   673     2.000   673  344.049   673\n",
       "potential_loyalists  36.870  2925     3.311  2925  533.741  2925\n",
       "promising            58.695   668     2.000   668  334.153   668"
      ]
     },
     "execution_count": 61,
     "metadata": {},
     "output_type": "execute_result"
    }
   ],
   "source": [
    "rfm[[\"segment\",\"recency\", \"frequency\", \"monetary\"]].groupby('segment').agg(['mean','count'])\n",
    "\n"
   ]
  },
  {
   "cell_type": "code",
   "execution_count": 62,
   "metadata": {},
   "outputs": [
    {
     "data": {
      "text/html": [
       "<div>\n",
       "<style scoped>\n",
       "    .dataframe tbody tr th:only-of-type {\n",
       "        vertical-align: middle;\n",
       "    }\n",
       "\n",
       "    .dataframe tbody tr th {\n",
       "        vertical-align: top;\n",
       "    }\n",
       "\n",
       "    .dataframe thead th {\n",
       "        text-align: right;\n",
       "    }\n",
       "</style>\n",
       "<table border=\"1\" class=\"dataframe\">\n",
       "  <thead>\n",
       "    <tr style=\"text-align: right;\">\n",
       "      <th></th>\n",
       "      <th>recency</th>\n",
       "      <th>frequency</th>\n",
       "      <th>monetary</th>\n",
       "      <th>recency_s</th>\n",
       "      <th>frequency_s</th>\n",
       "      <th>monetary_s</th>\n",
       "      <th>RFM_S</th>\n",
       "      <th>segment</th>\n",
       "    </tr>\n",
       "    <tr>\n",
       "      <th>master_id</th>\n",
       "      <th></th>\n",
       "      <th></th>\n",
       "      <th></th>\n",
       "      <th></th>\n",
       "      <th></th>\n",
       "      <th></th>\n",
       "      <th></th>\n",
       "      <th></th>\n",
       "    </tr>\n",
       "  </thead>\n",
       "  <tbody>\n",
       "    <tr>\n",
       "      <th>007cdfe4-1f54-11ea-87bf-000d3a38a36f</th>\n",
       "      <td>355</td>\n",
       "      <td>8.000</td>\n",
       "      <td>778.880</td>\n",
       "      <td>1</td>\n",
       "      <td>5</td>\n",
       "      <td>4</td>\n",
       "      <td>15</td>\n",
       "      <td>cant_loose</td>\n",
       "    </tr>\n",
       "    <tr>\n",
       "      <th>00f6c98e-abb5-11e9-a2fc-000d3a38a36f</th>\n",
       "      <td>163</td>\n",
       "      <td>12.000</td>\n",
       "      <td>2199.800</td>\n",
       "      <td>2</td>\n",
       "      <td>5</td>\n",
       "      <td>5</td>\n",
       "      <td>25</td>\n",
       "      <td>cant_loose</td>\n",
       "    </tr>\n",
       "    <tr>\n",
       "      <th>00f7553c-5bbb-11ea-b88d-000d3a38a36f</th>\n",
       "      <td>174</td>\n",
       "      <td>12.000</td>\n",
       "      <td>1754.270</td>\n",
       "      <td>2</td>\n",
       "      <td>5</td>\n",
       "      <td>5</td>\n",
       "      <td>25</td>\n",
       "      <td>cant_loose</td>\n",
       "    </tr>\n",
       "    <tr>\n",
       "      <th>017bd900-a97e-11e9-a2fc-000d3a38a36f</th>\n",
       "      <td>250</td>\n",
       "      <td>8.000</td>\n",
       "      <td>699.900</td>\n",
       "      <td>1</td>\n",
       "      <td>5</td>\n",
       "      <td>4</td>\n",
       "      <td>15</td>\n",
       "      <td>cant_loose</td>\n",
       "    </tr>\n",
       "    <tr>\n",
       "      <th>01defd1e-a582-11e9-a2fc-000d3a38a36f</th>\n",
       "      <td>244</td>\n",
       "      <td>8.000</td>\n",
       "      <td>1497.500</td>\n",
       "      <td>1</td>\n",
       "      <td>5</td>\n",
       "      <td>5</td>\n",
       "      <td>15</td>\n",
       "      <td>cant_loose</td>\n",
       "    </tr>\n",
       "  </tbody>\n",
       "</table>\n",
       "</div>"
      ],
      "text/plain": [
       "                                      recency  frequency  monetary recency_s frequency_s monetary_s RFM_S     segment\n",
       "master_id                                                                                                            \n",
       "007cdfe4-1f54-11ea-87bf-000d3a38a36f      355      8.000   778.880         1           5          4    15  cant_loose\n",
       "00f6c98e-abb5-11e9-a2fc-000d3a38a36f      163     12.000  2199.800         2           5          5    25  cant_loose\n",
       "00f7553c-5bbb-11ea-b88d-000d3a38a36f      174     12.000  1754.270         2           5          5    25  cant_loose\n",
       "017bd900-a97e-11e9-a2fc-000d3a38a36f      250      8.000   699.900         1           5          4    15  cant_loose\n",
       "01defd1e-a582-11e9-a2fc-000d3a38a36f      244      8.000  1497.500         1           5          5    15  cant_loose"
      ]
     },
     "execution_count": 62,
     "metadata": {},
     "output_type": "execute_result"
    }
   ],
   "source": [
    "rfm[rfm['segment']=='cant_loose'].head()"
   ]
  },
  {
   "cell_type": "code",
   "execution_count": 63,
   "metadata": {},
   "outputs": [],
   "source": [
    "rfm.to_csv('rfm.csv')"
   ]
  },
  {
   "cell_type": "code",
   "execution_count": 64,
   "metadata": {},
   "outputs": [],
   "source": [
    "###############################################################\n",
    "# GÖREV 5: Aksiyon zamanı!\n",
    "###############################################################"
   ]
  },
  {
   "cell_type": "code",
   "execution_count": null,
   "metadata": {},
   "outputs": [],
   "source": [
    "# 1. Segmentlerin recency, frequnecy ve monetary ortalamalarını inceleyiniz.\n"
   ]
  },
  {
   "cell_type": "code",
   "execution_count": 66,
   "metadata": {},
   "outputs": [
    {
     "data": {
      "text/html": [
       "<div>\n",
       "<style scoped>\n",
       "    .dataframe tbody tr th:only-of-type {\n",
       "        vertical-align: middle;\n",
       "    }\n",
       "\n",
       "    .dataframe tbody tr th {\n",
       "        vertical-align: top;\n",
       "    }\n",
       "\n",
       "    .dataframe thead th {\n",
       "        text-align: right;\n",
       "    }\n",
       "</style>\n",
       "<table border=\"1\" class=\"dataframe\">\n",
       "  <thead>\n",
       "    <tr style=\"text-align: right;\">\n",
       "      <th></th>\n",
       "      <th>recency</th>\n",
       "      <th>frequency</th>\n",
       "      <th>monetary</th>\n",
       "    </tr>\n",
       "    <tr>\n",
       "      <th>segment</th>\n",
       "      <th></th>\n",
       "      <th></th>\n",
       "      <th></th>\n",
       "    </tr>\n",
       "  </thead>\n",
       "  <tbody>\n",
       "    <tr>\n",
       "      <th>about_to_sleep</th>\n",
       "      <td>114.032</td>\n",
       "      <td>2.407</td>\n",
       "      <td>361.649</td>\n",
       "    </tr>\n",
       "    <tr>\n",
       "      <th>at_Risk</th>\n",
       "      <td>242.329</td>\n",
       "      <td>4.470</td>\n",
       "      <td>648.325</td>\n",
       "    </tr>\n",
       "    <tr>\n",
       "      <th>cant_loose</th>\n",
       "      <td>235.159</td>\n",
       "      <td>10.717</td>\n",
       "      <td>1481.652</td>\n",
       "    </tr>\n",
       "    <tr>\n",
       "      <th>champions</th>\n",
       "      <td>17.142</td>\n",
       "      <td>8.965</td>\n",
       "      <td>1410.709</td>\n",
       "    </tr>\n",
       "    <tr>\n",
       "      <th>hibernating</th>\n",
       "      <td>247.426</td>\n",
       "      <td>2.391</td>\n",
       "      <td>362.583</td>\n",
       "    </tr>\n",
       "  </tbody>\n",
       "</table>\n",
       "</div>"
      ],
      "text/plain": [
       "                recency  frequency  monetary\n",
       "segment                                     \n",
       "about_to_sleep  114.032      2.407   361.649\n",
       "at_Risk         242.329      4.470   648.325\n",
       "cant_loose      235.159     10.717  1481.652\n",
       "champions        17.142      8.965  1410.709\n",
       "hibernating     247.426      2.391   362.583"
      ]
     },
     "execution_count": 66,
     "metadata": {},
     "output_type": "execute_result"
    }
   ],
   "source": [
    "#1.yol:\n",
    "rfm.groupby('segment').agg({'recency':'mean', 'frequency':'mean','monetary':'mean'}).head()\n"
   ]
  },
  {
   "cell_type": "code",
   "execution_count": 67,
   "metadata": {},
   "outputs": [
    {
     "data": {
      "text/html": [
       "<div>\n",
       "<style scoped>\n",
       "    .dataframe tbody tr th:only-of-type {\n",
       "        vertical-align: middle;\n",
       "    }\n",
       "\n",
       "    .dataframe tbody tr th {\n",
       "        vertical-align: top;\n",
       "    }\n",
       "\n",
       "    .dataframe thead th {\n",
       "        text-align: right;\n",
       "    }\n",
       "</style>\n",
       "<table border=\"1\" class=\"dataframe\">\n",
       "  <thead>\n",
       "    <tr style=\"text-align: right;\">\n",
       "      <th></th>\n",
       "      <th>recency</th>\n",
       "      <th>frequency</th>\n",
       "      <th>monetary</th>\n",
       "    </tr>\n",
       "    <tr>\n",
       "      <th>segment</th>\n",
       "      <th></th>\n",
       "      <th></th>\n",
       "      <th></th>\n",
       "    </tr>\n",
       "  </thead>\n",
       "  <tbody>\n",
       "    <tr>\n",
       "      <th>about_to_sleep</th>\n",
       "      <td>114.032</td>\n",
       "      <td>2.407</td>\n",
       "      <td>361.649</td>\n",
       "    </tr>\n",
       "    <tr>\n",
       "      <th>at_Risk</th>\n",
       "      <td>242.329</td>\n",
       "      <td>4.470</td>\n",
       "      <td>648.325</td>\n",
       "    </tr>\n",
       "    <tr>\n",
       "      <th>cant_loose</th>\n",
       "      <td>235.159</td>\n",
       "      <td>10.717</td>\n",
       "      <td>1481.652</td>\n",
       "    </tr>\n",
       "    <tr>\n",
       "      <th>champions</th>\n",
       "      <td>17.142</td>\n",
       "      <td>8.965</td>\n",
       "      <td>1410.709</td>\n",
       "    </tr>\n",
       "    <tr>\n",
       "      <th>hibernating</th>\n",
       "      <td>247.426</td>\n",
       "      <td>2.391</td>\n",
       "      <td>362.583</td>\n",
       "    </tr>\n",
       "    <tr>\n",
       "      <th>loyal_customers</th>\n",
       "      <td>82.558</td>\n",
       "      <td>8.356</td>\n",
       "      <td>1216.257</td>\n",
       "    </tr>\n",
       "    <tr>\n",
       "      <th>need_attention</th>\n",
       "      <td>113.037</td>\n",
       "      <td>3.739</td>\n",
       "      <td>553.437</td>\n",
       "    </tr>\n",
       "    <tr>\n",
       "      <th>new_customers</th>\n",
       "      <td>17.976</td>\n",
       "      <td>2.000</td>\n",
       "      <td>344.049</td>\n",
       "    </tr>\n",
       "    <tr>\n",
       "      <th>potential_loyalists</th>\n",
       "      <td>36.870</td>\n",
       "      <td>3.311</td>\n",
       "      <td>533.741</td>\n",
       "    </tr>\n",
       "    <tr>\n",
       "      <th>promising</th>\n",
       "      <td>58.695</td>\n",
       "      <td>2.000</td>\n",
       "      <td>334.153</td>\n",
       "    </tr>\n",
       "  </tbody>\n",
       "</table>\n",
       "</div>"
      ],
      "text/plain": [
       "                     recency  frequency  monetary\n",
       "segment                                          \n",
       "about_to_sleep       114.032      2.407   361.649\n",
       "at_Risk              242.329      4.470   648.325\n",
       "cant_loose           235.159     10.717  1481.652\n",
       "champions             17.142      8.965  1410.709\n",
       "hibernating          247.426      2.391   362.583\n",
       "loyal_customers       82.558      8.356  1216.257\n",
       "need_attention       113.037      3.739   553.437\n",
       "new_customers         17.976      2.000   344.049\n",
       "potential_loyalists   36.870      3.311   533.741\n",
       "promising             58.695      2.000   334.153"
      ]
     },
     "execution_count": 67,
     "metadata": {},
     "output_type": "execute_result"
    }
   ],
   "source": [
    "#2.yol:\n",
    "rfm.groupby('segment')[[\"recency\", \"frequency\", \"monetary\"]].mean()"
   ]
  },
  {
   "cell_type": "code",
   "execution_count": 71,
   "metadata": {},
   "outputs": [
    {
     "data": {
      "text/html": [
       "<div>\n",
       "<style scoped>\n",
       "    .dataframe tbody tr th:only-of-type {\n",
       "        vertical-align: middle;\n",
       "    }\n",
       "\n",
       "    .dataframe tbody tr th {\n",
       "        vertical-align: top;\n",
       "    }\n",
       "\n",
       "    .dataframe thead th {\n",
       "        text-align: right;\n",
       "    }\n",
       "</style>\n",
       "<table border=\"1\" class=\"dataframe\">\n",
       "  <thead>\n",
       "    <tr style=\"text-align: right;\">\n",
       "      <th></th>\n",
       "      <th>recency</th>\n",
       "      <th>frequency</th>\n",
       "      <th>monetary</th>\n",
       "    </tr>\n",
       "    <tr>\n",
       "      <th>segment</th>\n",
       "      <th></th>\n",
       "      <th></th>\n",
       "      <th></th>\n",
       "    </tr>\n",
       "  </thead>\n",
       "  <tbody>\n",
       "    <tr>\n",
       "      <th>about_to_sleep</th>\n",
       "      <td>114.032</td>\n",
       "      <td>2.407</td>\n",
       "      <td>361.649</td>\n",
       "    </tr>\n",
       "    <tr>\n",
       "      <th>at_Risk</th>\n",
       "      <td>242.329</td>\n",
       "      <td>4.470</td>\n",
       "      <td>648.325</td>\n",
       "    </tr>\n",
       "    <tr>\n",
       "      <th>cant_loose</th>\n",
       "      <td>235.159</td>\n",
       "      <td>10.717</td>\n",
       "      <td>1481.652</td>\n",
       "    </tr>\n",
       "    <tr>\n",
       "      <th>champions</th>\n",
       "      <td>17.142</td>\n",
       "      <td>8.965</td>\n",
       "      <td>1410.709</td>\n",
       "    </tr>\n",
       "    <tr>\n",
       "      <th>hibernating</th>\n",
       "      <td>247.426</td>\n",
       "      <td>2.391</td>\n",
       "      <td>362.583</td>\n",
       "    </tr>\n",
       "    <tr>\n",
       "      <th>loyal_customers</th>\n",
       "      <td>82.558</td>\n",
       "      <td>8.356</td>\n",
       "      <td>1216.257</td>\n",
       "    </tr>\n",
       "    <tr>\n",
       "      <th>need_attention</th>\n",
       "      <td>113.037</td>\n",
       "      <td>3.739</td>\n",
       "      <td>553.437</td>\n",
       "    </tr>\n",
       "    <tr>\n",
       "      <th>new_customers</th>\n",
       "      <td>17.976</td>\n",
       "      <td>2.000</td>\n",
       "      <td>344.049</td>\n",
       "    </tr>\n",
       "    <tr>\n",
       "      <th>potential_loyalists</th>\n",
       "      <td>36.870</td>\n",
       "      <td>3.311</td>\n",
       "      <td>533.741</td>\n",
       "    </tr>\n",
       "    <tr>\n",
       "      <th>promising</th>\n",
       "      <td>58.695</td>\n",
       "      <td>2.000</td>\n",
       "      <td>334.153</td>\n",
       "    </tr>\n",
       "  </tbody>\n",
       "</table>\n",
       "</div>"
      ],
      "text/plain": [
       "                     recency  frequency  monetary\n",
       "segment                                          \n",
       "about_to_sleep       114.032      2.407   361.649\n",
       "at_Risk              242.329      4.470   648.325\n",
       "cant_loose           235.159     10.717  1481.652\n",
       "champions             17.142      8.965  1410.709\n",
       "hibernating          247.426      2.391   362.583\n",
       "loyal_customers       82.558      8.356  1216.257\n",
       "need_attention       113.037      3.739   553.437\n",
       "new_customers         17.976      2.000   344.049\n",
       "potential_loyalists   36.870      3.311   533.741\n",
       "promising             58.695      2.000   334.153"
      ]
     },
     "execution_count": 71,
     "metadata": {},
     "output_type": "execute_result"
    }
   ],
   "source": [
    "#3.yol:\n",
    "rfm[[\"segment\",\"recency\",\"frequency\",\"monetary\"]].groupby(\"segment\").apply(lambda col: col.mean())"
   ]
  },
  {
   "cell_type": "code",
   "execution_count": 72,
   "metadata": {},
   "outputs": [],
   "source": [
    "# 2. RFM analizi yardımı ile 2 case için ilgili profildeki müşterileri bulun ve müşteri id'lerini csv ye kaydediniz."
   ]
  },
  {
   "cell_type": "code",
   "execution_count": 73,
   "metadata": {},
   "outputs": [],
   "source": [
    "# a. FLO bünyesine yeni bir kadın ayakkabı markası dahil ediyor. Dahil ettiği markanın ürün fiyatları genel müşteri tercihlerinin üstünde. Bu nedenle markanın\n",
    "# tanıtımı ve ürün satışları için ilgilenecek profildeki müşterilerle özel olarak iletişime geçeilmek isteniliyor. Sadık müşterilerinden(champions,loyal_customers),\n",
    "# ortalama 250 TL üzeri ve kadın kategorisinden alışveriş yapan kişiler özel olarak iletişim kuralacak müşteriler. Bu müşterilerin id numaralarını csv dosyasına\n",
    "# yeni_marka_hedef_müşteri_id.cvs olarak kaydediniz."
   ]
  },
  {
   "cell_type": "code",
   "execution_count": 75,
   "metadata": {},
   "outputs": [],
   "source": [
    "rfm=pd.merge(rfm,df[['master_id','interested_in_categories_12']],on='master_id',how='left')"
   ]
  },
  {
   "cell_type": "code",
   "execution_count": 78,
   "metadata": {},
   "outputs": [],
   "source": [
    "rfm['category']=rfm['interested_in_categories_12'] # 1.YOL\n"
   ]
  },
  {
   "cell_type": "code",
   "execution_count": 79,
   "metadata": {},
   "outputs": [],
   "source": [
    "#rfm=rfm.rename(columns={'interested_in_categories':'category'})\n"
   ]
  },
  {
   "cell_type": "code",
   "execution_count": 81,
   "metadata": {},
   "outputs": [
    {
     "data": {
      "text/html": [
       "<div>\n",
       "<style scoped>\n",
       "    .dataframe tbody tr th:only-of-type {\n",
       "        vertical-align: middle;\n",
       "    }\n",
       "\n",
       "    .dataframe tbody tr th {\n",
       "        vertical-align: top;\n",
       "    }\n",
       "\n",
       "    .dataframe thead th {\n",
       "        text-align: right;\n",
       "    }\n",
       "</style>\n",
       "<table border=\"1\" class=\"dataframe\">\n",
       "  <thead>\n",
       "    <tr style=\"text-align: right;\">\n",
       "      <th></th>\n",
       "      <th>master_id</th>\n",
       "      <th>monetary</th>\n",
       "      <th>category</th>\n",
       "      <th>segment</th>\n",
       "    </tr>\n",
       "  </thead>\n",
       "  <tbody>\n",
       "    <tr>\n",
       "      <th>3</th>\n",
       "      <td>000c1fe2-a8b7-11ea-8479-000d3a38a36f</td>\n",
       "      <td>874.160</td>\n",
       "      <td>[AKTIFCOCUK, ERKEK, COCUK, KADIN, AKTIFSPOR]</td>\n",
       "      <td>champions</td>\n",
       "    </tr>\n",
       "    <tr>\n",
       "      <th>18</th>\n",
       "      <td>003903e0-abce-11e9-a2fc-000d3a38a36f</td>\n",
       "      <td>577.470</td>\n",
       "      <td>[KADIN]</td>\n",
       "      <td>loyal_customers</td>\n",
       "    </tr>\n",
       "    <tr>\n",
       "      <th>22</th>\n",
       "      <td>004bec18-9f7a-11e9-a2fc-000d3a38a36f</td>\n",
       "      <td>684.910</td>\n",
       "      <td>[ERKEK, KADIN, AKTIFSPOR]</td>\n",
       "      <td>loyal_customers</td>\n",
       "    </tr>\n",
       "    <tr>\n",
       "      <th>25</th>\n",
       "      <td>00534fe4-a6b4-11e9-a2fc-000d3a38a36f</td>\n",
       "      <td>800.590</td>\n",
       "      <td>[ERKEK, KADIN, AKTIFSPOR]</td>\n",
       "      <td>loyal_customers</td>\n",
       "    </tr>\n",
       "    <tr>\n",
       "      <th>49</th>\n",
       "      <td>009293fe-1f3e-11ea-87bf-000d3a38a36f</td>\n",
       "      <td>725.180</td>\n",
       "      <td>[COCUK, KADIN, AKTIFSPOR]</td>\n",
       "      <td>loyal_customers</td>\n",
       "    </tr>\n",
       "  </tbody>\n",
       "</table>\n",
       "</div>"
      ],
      "text/plain": [
       "                               master_id  monetary                                      category          segment\n",
       "3   000c1fe2-a8b7-11ea-8479-000d3a38a36f   874.160  [AKTIFCOCUK, ERKEK, COCUK, KADIN, AKTIFSPOR]        champions\n",
       "18  003903e0-abce-11e9-a2fc-000d3a38a36f   577.470                                       [KADIN]  loyal_customers\n",
       "22  004bec18-9f7a-11e9-a2fc-000d3a38a36f   684.910                     [ERKEK, KADIN, AKTIFSPOR]  loyal_customers\n",
       "25  00534fe4-a6b4-11e9-a2fc-000d3a38a36f   800.590                     [ERKEK, KADIN, AKTIFSPOR]  loyal_customers\n",
       "49  009293fe-1f3e-11ea-87bf-000d3a38a36f   725.180                     [COCUK, KADIN, AKTIFSPOR]  loyal_customers"
      ]
     },
     "execution_count": 81,
     "metadata": {},
     "output_type": "execute_result"
    }
   ],
   "source": [
    "yeni_marka_hedef_musteri_id = rfm.loc[(rfm[\"monetary\"] > 250) & (rfm[\"category\"].str.contains(\"KADIN\")) & ((rfm[\"segment\"] == \"champions\") | (rfm[\"segment\"] == \"loyal_customers\")), [\"master_id\", \"monetary\", \"category\", \"segment\"]]\n",
    "yeni_marka_hedef_musteri_id.head(5)"
   ]
  },
  {
   "cell_type": "code",
   "execution_count": 82,
   "metadata": {},
   "outputs": [],
   "source": [
    "yeni_marka_hedef_musteri_id.to_csv('yeni_marka_hedef_müşteri_id.csv')"
   ]
  },
  {
   "cell_type": "code",
   "execution_count": 84,
   "metadata": {},
   "outputs": [],
   "source": [
    "# del rfm[\"interested_in_categories_12\"]\n"
   ]
  },
  {
   "cell_type": "code",
   "execution_count": 85,
   "metadata": {},
   "outputs": [
    {
     "data": {
      "text/html": [
       "<div>\n",
       "<style scoped>\n",
       "    .dataframe tbody tr th:only-of-type {\n",
       "        vertical-align: middle;\n",
       "    }\n",
       "\n",
       "    .dataframe tbody tr th {\n",
       "        vertical-align: top;\n",
       "    }\n",
       "\n",
       "    .dataframe thead th {\n",
       "        text-align: right;\n",
       "    }\n",
       "</style>\n",
       "<table border=\"1\" class=\"dataframe\">\n",
       "  <thead>\n",
       "    <tr style=\"text-align: right;\">\n",
       "      <th></th>\n",
       "      <th>master_id</th>\n",
       "      <th>recency</th>\n",
       "      <th>frequency</th>\n",
       "      <th>monetary</th>\n",
       "      <th>recency_s</th>\n",
       "      <th>frequency_s</th>\n",
       "      <th>monetary_s</th>\n",
       "      <th>RFM_S</th>\n",
       "      <th>segment</th>\n",
       "      <th>interested_in_categories_12</th>\n",
       "      <th>category</th>\n",
       "    </tr>\n",
       "  </thead>\n",
       "  <tbody>\n",
       "    <tr>\n",
       "      <th>0</th>\n",
       "      <td>00016786-2f5a-11ea-bb80-000d3a38a36f</td>\n",
       "      <td>10</td>\n",
       "      <td>5.000</td>\n",
       "      <td>776.070</td>\n",
       "      <td>5</td>\n",
       "      <td>4</td>\n",
       "      <td>4</td>\n",
       "      <td>54</td>\n",
       "      <td>champions</td>\n",
       "      <td>[ERKEK, COCUK, AKTIFSPOR]</td>\n",
       "      <td>[ERKEK, COCUK, AKTIFSPOR]</td>\n",
       "    </tr>\n",
       "    <tr>\n",
       "      <th>1</th>\n",
       "      <td>00034aaa-a838-11e9-a2fc-000d3a38a36f</td>\n",
       "      <td>298</td>\n",
       "      <td>3.000</td>\n",
       "      <td>269.470</td>\n",
       "      <td>1</td>\n",
       "      <td>2</td>\n",
       "      <td>1</td>\n",
       "      <td>12</td>\n",
       "      <td>hibernating</td>\n",
       "      <td>[ERKEK, KADIN]</td>\n",
       "      <td>[ERKEK, KADIN]</td>\n",
       "    </tr>\n",
       "    <tr>\n",
       "      <th>2</th>\n",
       "      <td>000be838-85df-11ea-a90b-000d3a38a36f</td>\n",
       "      <td>213</td>\n",
       "      <td>4.000</td>\n",
       "      <td>722.690</td>\n",
       "      <td>2</td>\n",
       "      <td>3</td>\n",
       "      <td>4</td>\n",
       "      <td>23</td>\n",
       "      <td>at_Risk</td>\n",
       "      <td>[AKTIFCOCUK, AKTIFSPOR]</td>\n",
       "      <td>[AKTIFCOCUK, AKTIFSPOR]</td>\n",
       "    </tr>\n",
       "    <tr>\n",
       "      <th>3</th>\n",
       "      <td>000c1fe2-a8b7-11ea-8479-000d3a38a36f</td>\n",
       "      <td>27</td>\n",
       "      <td>7.000</td>\n",
       "      <td>874.160</td>\n",
       "      <td>5</td>\n",
       "      <td>4</td>\n",
       "      <td>4</td>\n",
       "      <td>54</td>\n",
       "      <td>champions</td>\n",
       "      <td>[AKTIFCOCUK, ERKEK, COCUK, KADIN, AKTIFSPOR]</td>\n",
       "      <td>[AKTIFCOCUK, ERKEK, COCUK, KADIN, AKTIFSPOR]</td>\n",
       "    </tr>\n",
       "    <tr>\n",
       "      <th>4</th>\n",
       "      <td>000f5e3e-9dde-11ea-80cd-000d3a38a36f</td>\n",
       "      <td>20</td>\n",
       "      <td>7.000</td>\n",
       "      <td>1620.330</td>\n",
       "      <td>5</td>\n",
       "      <td>4</td>\n",
       "      <td>5</td>\n",
       "      <td>54</td>\n",
       "      <td>champions</td>\n",
       "      <td>[ERKEK, AKTIFSPOR]</td>\n",
       "      <td>[ERKEK, AKTIFSPOR]</td>\n",
       "    </tr>\n",
       "  </tbody>\n",
       "</table>\n",
       "</div>"
      ],
      "text/plain": [
       "                              master_id  recency  frequency  monetary recency_s frequency_s monetary_s RFM_S      segment                   interested_in_categories_12                                      category\n",
       "0  00016786-2f5a-11ea-bb80-000d3a38a36f       10      5.000   776.070         5           4          4    54    champions                     [ERKEK, COCUK, AKTIFSPOR]                     [ERKEK, COCUK, AKTIFSPOR]\n",
       "1  00034aaa-a838-11e9-a2fc-000d3a38a36f      298      3.000   269.470         1           2          1    12  hibernating                                [ERKEK, KADIN]                                [ERKEK, KADIN]\n",
       "2  000be838-85df-11ea-a90b-000d3a38a36f      213      4.000   722.690         2           3          4    23      at_Risk                       [AKTIFCOCUK, AKTIFSPOR]                       [AKTIFCOCUK, AKTIFSPOR]\n",
       "3  000c1fe2-a8b7-11ea-8479-000d3a38a36f       27      7.000   874.160         5           4          4    54    champions  [AKTIFCOCUK, ERKEK, COCUK, KADIN, AKTIFSPOR]  [AKTIFCOCUK, ERKEK, COCUK, KADIN, AKTIFSPOR]\n",
       "4  000f5e3e-9dde-11ea-80cd-000d3a38a36f       20      7.000  1620.330         5           4          5    54    champions                            [ERKEK, AKTIFSPOR]                            [ERKEK, AKTIFSPOR]"
      ]
     },
     "execution_count": 85,
     "metadata": {},
     "output_type": "execute_result"
    }
   ],
   "source": [
    "rfm.head()"
   ]
  },
  {
   "cell_type": "code",
   "execution_count": 88,
   "metadata": {},
   "outputs": [
    {
     "data": {
      "text/html": [
       "<div>\n",
       "<style scoped>\n",
       "    .dataframe tbody tr th:only-of-type {\n",
       "        vertical-align: middle;\n",
       "    }\n",
       "\n",
       "    .dataframe tbody tr th {\n",
       "        vertical-align: top;\n",
       "    }\n",
       "\n",
       "    .dataframe thead th {\n",
       "        text-align: right;\n",
       "    }\n",
       "</style>\n",
       "<table border=\"1\" class=\"dataframe\">\n",
       "  <thead>\n",
       "    <tr style=\"text-align: right;\">\n",
       "      <th></th>\n",
       "      <th>master_id</th>\n",
       "      <th>recency</th>\n",
       "      <th>frequency</th>\n",
       "      <th>monetary</th>\n",
       "      <th>recency_s</th>\n",
       "      <th>frequency_s</th>\n",
       "      <th>monetary_s</th>\n",
       "      <th>RFM_S</th>\n",
       "      <th>segment</th>\n",
       "      <th>interested_in_categories_12</th>\n",
       "      <th>category</th>\n",
       "    </tr>\n",
       "  </thead>\n",
       "  <tbody>\n",
       "  </tbody>\n",
       "</table>\n",
       "</div>"
      ],
      "text/plain": [
       "Empty DataFrame\n",
       "Columns: [master_id, recency, frequency, monetary, recency_s, frequency_s, monetary_s, RFM_S, segment, interested_in_categories_12, category]\n",
       "Index: []"
      ]
     },
     "execution_count": 88,
     "metadata": {},
     "output_type": "execute_result"
    }
   ],
   "source": [
    "#2.yol\n",
    "rfm[(rfm['monetary'] > 250 ) & (rfm['category']=='KADIN') & (rfm['segment'].isin(['champions', 'loyal_customers']))]"
   ]
  },
  {
   "cell_type": "code",
   "execution_count": 91,
   "metadata": {},
   "outputs": [
    {
     "data": {
      "text/html": [
       "<div>\n",
       "<style scoped>\n",
       "    .dataframe tbody tr th:only-of-type {\n",
       "        vertical-align: middle;\n",
       "    }\n",
       "\n",
       "    .dataframe tbody tr th {\n",
       "        vertical-align: top;\n",
       "    }\n",
       "\n",
       "    .dataframe thead th {\n",
       "        text-align: right;\n",
       "    }\n",
       "</style>\n",
       "<table border=\"1\" class=\"dataframe\">\n",
       "  <thead>\n",
       "    <tr style=\"text-align: right;\">\n",
       "      <th></th>\n",
       "      <th>master_id</th>\n",
       "      <th>recency</th>\n",
       "      <th>frequency</th>\n",
       "      <th>monetary</th>\n",
       "      <th>recency_s</th>\n",
       "      <th>frequency_s</th>\n",
       "      <th>monetary_s</th>\n",
       "      <th>RFM_S</th>\n",
       "      <th>segment</th>\n",
       "      <th>interested_in_categories_12</th>\n",
       "      <th>category</th>\n",
       "    </tr>\n",
       "  </thead>\n",
       "  <tbody>\n",
       "  </tbody>\n",
       "</table>\n",
       "</div>"
      ],
      "text/plain": [
       "Empty DataFrame\n",
       "Columns: [master_id, recency, frequency, monetary, recency_s, frequency_s, monetary_s, RFM_S, segment, interested_in_categories_12, category]\n",
       "Index: []"
      ]
     },
     "execution_count": 91,
     "metadata": {},
     "output_type": "execute_result"
    }
   ],
   "source": [
    "#3.yol:\n",
    "rfm.query('monetary > 250 and category == \"KADIN\" and segment in [\"champions\", \"loyal_customers\"]')"
   ]
  },
  {
   "cell_type": "code",
   "execution_count": 94,
   "metadata": {},
   "outputs": [],
   "source": [
    "#4.yol:\n",
    "# rfm.groupby('segment').filter(lambda x: (x['monetary'] > 250) & (x['category'] == 'KADIN').any())\n",
    "\n",
    "# rfm[(rfm[\"segment\"] == \"champions\") | (rfm[\"segment\"] == \"loyal_customers\")]"
   ]
  },
  {
   "cell_type": "code",
   "execution_count": 95,
   "metadata": {},
   "outputs": [
    {
     "data": {
      "text/html": [
       "<div>\n",
       "<style scoped>\n",
       "    .dataframe tbody tr th:only-of-type {\n",
       "        vertical-align: middle;\n",
       "    }\n",
       "\n",
       "    .dataframe tbody tr th {\n",
       "        vertical-align: top;\n",
       "    }\n",
       "\n",
       "    .dataframe thead th {\n",
       "        text-align: right;\n",
       "    }\n",
       "</style>\n",
       "<table border=\"1\" class=\"dataframe\">\n",
       "  <thead>\n",
       "    <tr style=\"text-align: right;\">\n",
       "      <th></th>\n",
       "      <th>master_id</th>\n",
       "      <th>recency</th>\n",
       "      <th>frequency</th>\n",
       "      <th>monetary</th>\n",
       "      <th>recency_s</th>\n",
       "      <th>frequency_s</th>\n",
       "      <th>monetary_s</th>\n",
       "      <th>RFM_S</th>\n",
       "      <th>segment</th>\n",
       "      <th>interested_in_categories_12</th>\n",
       "      <th>category</th>\n",
       "    </tr>\n",
       "  </thead>\n",
       "  <tbody>\n",
       "    <tr>\n",
       "      <th>0</th>\n",
       "      <td>00016786-2f5a-11ea-bb80-000d3a38a36f</td>\n",
       "      <td>10</td>\n",
       "      <td>5.000</td>\n",
       "      <td>776.070</td>\n",
       "      <td>5</td>\n",
       "      <td>4</td>\n",
       "      <td>4</td>\n",
       "      <td>54</td>\n",
       "      <td>champions</td>\n",
       "      <td>[ERKEK, COCUK, AKTIFSPOR]</td>\n",
       "      <td>[ERKEK, COCUK, AKTIFSPOR]</td>\n",
       "    </tr>\n",
       "    <tr>\n",
       "      <th>1</th>\n",
       "      <td>00034aaa-a838-11e9-a2fc-000d3a38a36f</td>\n",
       "      <td>298</td>\n",
       "      <td>3.000</td>\n",
       "      <td>269.470</td>\n",
       "      <td>1</td>\n",
       "      <td>2</td>\n",
       "      <td>1</td>\n",
       "      <td>12</td>\n",
       "      <td>hibernating</td>\n",
       "      <td>[ERKEK, KADIN]</td>\n",
       "      <td>[ERKEK, KADIN]</td>\n",
       "    </tr>\n",
       "    <tr>\n",
       "      <th>2</th>\n",
       "      <td>000be838-85df-11ea-a90b-000d3a38a36f</td>\n",
       "      <td>213</td>\n",
       "      <td>4.000</td>\n",
       "      <td>722.690</td>\n",
       "      <td>2</td>\n",
       "      <td>3</td>\n",
       "      <td>4</td>\n",
       "      <td>23</td>\n",
       "      <td>at_Risk</td>\n",
       "      <td>[AKTIFCOCUK, AKTIFSPOR]</td>\n",
       "      <td>[AKTIFCOCUK, AKTIFSPOR]</td>\n",
       "    </tr>\n",
       "    <tr>\n",
       "      <th>3</th>\n",
       "      <td>000c1fe2-a8b7-11ea-8479-000d3a38a36f</td>\n",
       "      <td>27</td>\n",
       "      <td>7.000</td>\n",
       "      <td>874.160</td>\n",
       "      <td>5</td>\n",
       "      <td>4</td>\n",
       "      <td>4</td>\n",
       "      <td>54</td>\n",
       "      <td>champions</td>\n",
       "      <td>[AKTIFCOCUK, ERKEK, COCUK, KADIN, AKTIFSPOR]</td>\n",
       "      <td>[AKTIFCOCUK, ERKEK, COCUK, KADIN, AKTIFSPOR]</td>\n",
       "    </tr>\n",
       "    <tr>\n",
       "      <th>4</th>\n",
       "      <td>000f5e3e-9dde-11ea-80cd-000d3a38a36f</td>\n",
       "      <td>20</td>\n",
       "      <td>7.000</td>\n",
       "      <td>1620.330</td>\n",
       "      <td>5</td>\n",
       "      <td>4</td>\n",
       "      <td>5</td>\n",
       "      <td>54</td>\n",
       "      <td>champions</td>\n",
       "      <td>[ERKEK, AKTIFSPOR]</td>\n",
       "      <td>[ERKEK, AKTIFSPOR]</td>\n",
       "    </tr>\n",
       "  </tbody>\n",
       "</table>\n",
       "</div>"
      ],
      "text/plain": [
       "                              master_id  recency  frequency  monetary recency_s frequency_s monetary_s RFM_S      segment                   interested_in_categories_12                                      category\n",
       "0  00016786-2f5a-11ea-bb80-000d3a38a36f       10      5.000   776.070         5           4          4    54    champions                     [ERKEK, COCUK, AKTIFSPOR]                     [ERKEK, COCUK, AKTIFSPOR]\n",
       "1  00034aaa-a838-11e9-a2fc-000d3a38a36f      298      3.000   269.470         1           2          1    12  hibernating                                [ERKEK, KADIN]                                [ERKEK, KADIN]\n",
       "2  000be838-85df-11ea-a90b-000d3a38a36f      213      4.000   722.690         2           3          4    23      at_Risk                       [AKTIFCOCUK, AKTIFSPOR]                       [AKTIFCOCUK, AKTIFSPOR]\n",
       "3  000c1fe2-a8b7-11ea-8479-000d3a38a36f       27      7.000   874.160         5           4          4    54    champions  [AKTIFCOCUK, ERKEK, COCUK, KADIN, AKTIFSPOR]  [AKTIFCOCUK, ERKEK, COCUK, KADIN, AKTIFSPOR]\n",
       "4  000f5e3e-9dde-11ea-80cd-000d3a38a36f       20      7.000  1620.330         5           4          5    54    champions                            [ERKEK, AKTIFSPOR]                            [ERKEK, AKTIFSPOR]"
      ]
     },
     "execution_count": 95,
     "metadata": {},
     "output_type": "execute_result"
    }
   ],
   "source": [
    "rfm.head()"
   ]
  },
  {
   "cell_type": "code",
   "execution_count": null,
   "metadata": {},
   "outputs": [],
   "source": [
    "# b. Erkek ve Çoçuk ürünlerinde %40'a yakın indirim planlanmaktadır. Bu indirimle ilgili kategorilerle ilgilenen geçmişte iyi müşteri olan ama uzun süredir\n",
    "# alışveriş yapmayan kaybedilmemesi gereken müşteriler, uykuda olanlar ve yeni gelen müşteriler özel olarak hedef alınmak isteniliyor.\n",
    "# Uygun profildeki müşterilerin id'lerini csv dosyasına indirim_hedef_müşteri_ids.csv\n",
    "# olarak kaydediniz."
   ]
  },
  {
   "cell_type": "code",
   "execution_count": 99,
   "metadata": {},
   "outputs": [
    {
     "data": {
      "text/plain": [
       "1     00034aaa-a838-11e9-a2fc-000d3a38a36f\n",
       "5     00136ce2-a562-11e9-a2fc-000d3a38a36f\n",
       "9     0022f41e-5597-11eb-9e65-000d3a38a36f\n",
       "11    00263f1a-210a-11ea-b50a-000d3a38a36f\n",
       "16    0033f078-7359-11ea-92d0-000d3a38a36f\n",
       "Name: master_id, dtype: object"
      ]
     },
     "execution_count": 99,
     "metadata": {},
     "output_type": "execute_result"
    }
   ],
   "source": [
    "target_segments_customer_ids=rfm[rfm['segment'].isin(['cant_loose','hibernating','new_customers'])]['master_id']\n",
    "\n",
    "target_segments_customer_ids.head()\n"
   ]
  },
  {
   "cell_type": "code",
   "execution_count": 104,
   "metadata": {},
   "outputs": [
    {
     "data": {
      "text/plain": [
       "7     3f1b4dc8-8a7d-11ea-8ec0-000d3a38a36f\n",
       "10    ae608ece-c9d8-11ea-a31e-000d3a38a36f\n",
       "15    13ed97a4-b167-11e9-89fa-000d3a38a36f\n",
       "19    2730793e-3908-11ea-85d6-000d3a38a36f\n",
       "21    7b289956-d691-11e9-93bc-000d3a38a36f\n",
       "Name: master_id, dtype: object"
      ]
     },
     "execution_count": 104,
     "metadata": {},
     "output_type": "execute_result"
    }
   ],
   "source": [
    "cust_ids = df[(df[\"master_id\"].isin(target_segments_customer_ids)) & ((df[\"interested_in_categories_12\"].str.contains(\"ERKEK\"))|(df[\"interested_in_categories_12\"].str.contains(\"COCUK\")))][\"master_id\"]\n",
    "\n",
    "cust_ids.head()"
   ]
  },
  {
   "cell_type": "code",
   "execution_count": 105,
   "metadata": {},
   "outputs": [],
   "source": [
    "cust_ids.to_csv(\"indirim_hedef_müşteri_ids.csv\", index=False)"
   ]
  },
  {
   "cell_type": "code",
   "execution_count": 107,
   "metadata": {},
   "outputs": [
    {
     "name": "stdout",
     "output_type": "stream",
     "text": [
      "##################### Shape #####################\n",
      "(19945, 14)\n",
      "##################### Types #####################\n",
      "master_id                                    object\n",
      "order_channel                                object\n",
      "last_order_channel                           object\n",
      "first_order_date                     datetime64[ns]\n",
      "last_order_date                      datetime64[ns]\n",
      "last_order_date_online               datetime64[ns]\n",
      "last_order_date_offline              datetime64[ns]\n",
      "order_num_total_ever_online                 float64\n",
      "order_num_total_ever_offline                float64\n",
      "customer_value_total_ever_offline           float64\n",
      "customer_value_total_ever_online            float64\n",
      "interested_in_categories_12                  object\n",
      "order_total                                 float64\n",
      "price_total                                 float64\n",
      "dtype: object\n",
      "##################### Head #####################\n",
      "                              master_id order_channel last_order_channel first_order_date last_order_date last_order_date_online last_order_date_offline  order_num_total_ever_online  order_num_total_ever_offline  customer_value_total_ever_offline  customer_value_total_ever_online       interested_in_categories_12  order_total  price_total\n",
      "0  cc294636-19f0-11eb-8d74-000d3a38a36f   Android App            Offline       2020-10-30      2021-02-26             2021-02-21              2021-02-26                        4.000                         1.000                            139.990                           799.380                           [KADIN]        5.000      939.370\n",
      "1  f431bd5a-ab7b-11e9-a2fc-000d3a38a36f   Android App             Mobile       2017-02-08      2021-02-16             2021-02-16              2020-01-10                       19.000                         2.000                            159.970                          1853.580  [ERKEK, COCUK, KADIN, AKTIFSPOR]       21.000     2013.550\n",
      "2  69b69676-1a40-11ea-941b-000d3a38a36f   Android App        Android App       2019-11-27      2020-11-27             2020-11-27              2019-12-01                        3.000                         2.000                            189.970                           395.350                    [ERKEK, KADIN]        5.000      585.320\n",
      "3  1854e56c-491f-11eb-806e-000d3a38a36f   Android App        Android App       2021-01-06      2021-01-17             2021-01-17              2021-01-06                        1.000                         1.000                             39.990                            81.980               [AKTIFCOCUK, COCUK]        2.000      121.970\n",
      "4  d6ea1074-f1f5-11e9-9346-000d3a38a36f       Desktop            Desktop       2019-08-03      2021-03-07             2021-03-07              2019-08-03                        1.000                         1.000                             49.990                           159.990                       [AKTIFSPOR]        2.000      209.980\n",
      "##################### Tail #####################\n",
      "                                  master_id order_channel last_order_channel first_order_date last_order_date last_order_date_online last_order_date_offline  order_num_total_ever_online  order_num_total_ever_offline  customer_value_total_ever_offline  customer_value_total_ever_online interested_in_categories_12  order_total  price_total\n",
      "19940  727e2b6e-ddd4-11e9-a848-000d3a38a36f   Android App            Offline       2019-09-21      2020-07-05             2020-06-05              2020-07-05                        1.000                         2.000                            289.980                           111.980          [ERKEK, AKTIFSPOR]        3.000      401.960\n",
      "19941  25cd53d4-61bf-11ea-8dd8-000d3a38a36f       Desktop            Desktop       2020-03-01      2020-12-22             2020-12-22              2020-03-01                        1.000                         1.000                            150.480                           239.990                 [AKTIFSPOR]        2.000      390.470\n",
      "19942  8aea4c2a-d6fc-11e9-93bc-000d3a38a36f       Ios App            Ios App       2019-09-11      2021-05-24             2021-05-24              2019-09-11                        2.000                         1.000                            139.980                           492.960                 [AKTIFSPOR]        3.000      632.940\n",
      "19943  e50bb46c-ff30-11e9-a5e8-000d3a38a36f   Android App        Android App       2019-03-27      2021-02-13             2021-02-13              2021-01-08                        1.000                         5.000                            711.790                           297.980          [ERKEK, AKTIFSPOR]        6.000     1009.770\n",
      "19944  740998d2-b1f7-11e9-89fa-000d3a38a36f   Android App        Android App       2019-09-03      2020-06-06             2020-06-06              2019-09-03                        1.000                         1.000                             39.990                           221.980          [KADIN, AKTIFSPOR]        2.000      261.970\n",
      "##################### NA #####################\n",
      "master_id                            0\n",
      "order_channel                        0\n",
      "last_order_channel                   0\n",
      "first_order_date                     0\n",
      "last_order_date                      0\n",
      "last_order_date_online               0\n",
      "last_order_date_offline              0\n",
      "order_num_total_ever_online          0\n",
      "order_num_total_ever_offline         0\n",
      "customer_value_total_ever_offline    0\n",
      "customer_value_total_ever_online     0\n",
      "interested_in_categories_12          0\n",
      "order_total                          0\n",
      "price_total                          0\n",
      "dtype: int64\n",
      "##################### Quantiles #####################\n",
      "                                      count                           mean                  min                   0%                   5%                  50%                  95%                  99%                 100%                  max     std\n",
      "first_order_date                      19945  2019-03-22 16:43:55.246929152  2013-01-14 00:00:00  2013-01-14 00:00:00  2015-09-27 00:00:00  2019-08-20 00:00:00  2020-11-03 19:12:00  2021-03-09 13:26:24  2021-05-27 00:00:00  2021-05-27 00:00:00     NaN\n",
      "last_order_date                       19945  2021-01-17 12:59:57.653547264  2020-05-30 00:00:00  2020-05-30 00:00:00  2020-07-01 00:00:00  2021-02-10 00:00:00  2021-05-23 00:00:00  2021-05-28 00:00:00  2021-05-30 00:00:00  2021-05-30 00:00:00     NaN\n",
      "last_order_date_online                19945  2020-08-10 01:08:52.644773376  2014-02-24 00:00:00  2014-02-24 00:00:00  2018-04-10 04:48:00  2020-12-14 00:00:00  2021-05-20 00:00:00  2021-05-28 00:00:00  2021-05-30 00:00:00  2021-05-30 00:00:00     NaN\n",
      "last_order_date_offline               19945  2020-05-17 12:07:24.021058048  2019-01-22 00:00:00  2019-01-22 00:00:00  2019-04-09 00:00:00  2020-06-22 00:00:00  2021-04-20 00:00:00  2021-05-26 00:00:00  2021-05-28 00:00:00  2021-05-28 00:00:00     NaN\n",
      "order_num_total_ever_online       19945.000                          3.111                1.000                1.000                1.000                2.000               10.000               20.000              200.000              200.000   4.226\n",
      "order_num_total_ever_offline      19945.000                          1.914                1.000                1.000                1.000                1.000                4.000                7.000              109.000              109.000   2.063\n",
      "customer_value_total_ever_offline 19945.000                        253.923               10.000               10.000               39.990              179.980              694.222             1219.947            18119.140            18119.140 301.533\n",
      "customer_value_total_ever_online  19945.000                        497.322               12.990               12.990               63.990              286.460             1556.726             3143.810            45220.130            45220.130 832.602\n",
      "order_total                       19945.000                          5.025                2.000                2.000                2.000                4.000               12.000               22.000              202.000              202.000   4.743\n",
      "price_total                       19945.000                        751.244               44.980               44.980              175.480              545.270             1921.924             3606.356            45905.100            45905.100 895.402\n"
     ]
    }
   ],
   "source": [
    "def crm_fonk(dataframe, head=5):\n",
    "\n",
    "    print(\"##################### Shape #####################\")\n",
    "    print(dataframe.shape)\n",
    "    print(\"##################### Types #####################\")\n",
    "    print(dataframe.dtypes)\n",
    "    print(\"##################### Head #####################\")\n",
    "    print(dataframe.head(head))\n",
    "    print(\"##################### Tail #####################\")\n",
    "    print(dataframe.tail(head))\n",
    "    print(\"##################### NA #####################\")\n",
    "    print(dataframe.isnull().sum())\n",
    "    print(\"##################### Quantiles #####################\")\n",
    "    print(dataframe.describe([0, 0.05, 0.50, 0.95, 0.99, 1]).T)\n",
    "\n",
    "    dataframe[\"order_total\"] = dataframe[\"order_num_total_ever_online\"] + dataframe[\"order_num_total_ever_offline\"]\n",
    "    dataframe[\"price_total\"] = dataframe[\"customer_value_total_ever_offline\"] + dataframe[\"customer_value_total_ever_online\"]\n",
    "\n",
    "    date_columns = dataframe[dataframe.columns[dataframe.columns.str.contains(\"date\")]].apply(pd.to_datetime)\n",
    "\n",
    "    # GÖREV 2: RFM Metriklerinin Hesaplanması recency , frequency , monetary\n",
    "\n",
    "    dataframe[\"last_order_date\"].max()# 2021-05-30\n",
    "\n",
    "    today_date = dt.datetime(2021,6,1)\n",
    "\n",
    "    rfm = dataframe.groupby(\"master_id\").agg({\"last_order_date\": lambda date: (today_date - date.max()).days,\n",
    "                                       \"order_total\": lambda order_total: order_total.sum(),\n",
    "                                       \"price_total\": lambda price_total: price_total.sum()})\n",
    "    rfm.head()\n",
    "    rfm.columns = ['recency', 'frequency', 'monetary']\n",
    "\n",
    "    # GÖREV 3: RF ve RFM Skorlarının Hesaplanması\n",
    "\n",
    "    rfm[\"recency_s\"] = pd.qcut(rfm['recency'], 5, labels=[5, 4, 3, 2, 1])\n",
    "    rfm[\"frequency_s\"] = pd.qcut(rfm['frequency'].rank(method=\"first\"), 5, labels=[1, 2, 3, 4, 5])\n",
    "    rfm[\"monetary_s\"] = pd.qcut(rfm['monetary'], 5, labels=[1, 2, 3, 4, 5])\n",
    "    rfm[\"RFM_S\"] = (rfm['recency_s'].astype(str) + rfm['frequency_s'].astype(str))\n",
    "\n",
    "    # GÖREV 4: RF Skorlarının Segment Olarak Tanımlanması\n",
    "\n",
    "    seg_map = {\n",
    "        r'[1-2][1-2]': 'hibernating',\n",
    "        r'[1-2][3-4]': 'at_Risk',\n",
    "        r'[1-2]5': 'cant_loose',\n",
    "        r'3[1-2]': 'about_to_sleep',\n",
    "        r'33': 'need_attention',\n",
    "        r'[3-4][4-5]': 'loyal_customers',\n",
    "        r'41': 'promising',\n",
    "        r'51': 'new_customers',\n",
    "        r'[4-5][2-3]': 'potential_loyalists',\n",
    "        r'5[4-5]': 'champions'\n",
    "    }\n",
    "    rfm['segment'] = rfm['RFM_S'].replace(seg_map, regex=True)\n",
    "\n",
    "    rfm[[\"segment\", \"recency\", \"frequency\", \"monetary\"]].groupby(\"segment\").agg([\"mean\", \"count\"])\n",
    "\n",
    "    rfm[rfm[\"segment\"] == \"cant_loose\"].head()\n",
    "\n",
    "    rfm.to_csv(\"rfm.csv\")\n",
    "\n",
    "crm_fonk(df)    "
   ]
  }
 ],
 "metadata": {
  "kernelspec": {
   "display_name": "base",
   "language": "python",
   "name": "python3"
  },
  "language_info": {
   "codemirror_mode": {
    "name": "ipython",
    "version": 3
   },
   "file_extension": ".py",
   "mimetype": "text/x-python",
   "name": "python",
   "nbconvert_exporter": "python",
   "pygments_lexer": "ipython3",
   "version": "3.12.4"
  }
 },
 "nbformat": 4,
 "nbformat_minor": 2
}
